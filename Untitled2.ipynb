{
 "cells": [
  {
   "cell_type": "markdown",
   "id": "85e07e1f-ce2a-4925-a374-7663cb488ba9",
   "metadata": {
    "editable": true,
    "slideshow": {
     "slide_type": ""
    },
    "tags": []
   },
   "source": [
    "## Лабораторная работа 6. Выравнивание списка, состоящего из итерируемых объектов, на основе рекурсии"
   ]
  },
  {
   "cell_type": "markdown",
   "id": "95e479fc-ef9f-4ba9-8822-f87eb7161dfc",
   "metadata": {
    "editable": true,
    "slideshow": {
     "slide_type": ""
    },
    "tags": []
   },
   "source": [
    "Орешко Алёна Владимировна, 23.04.2025"
   ]
  },
  {
   "cell_type": "markdown",
   "id": "952a6012-5d57-4f2a-a338-e43e3571ecb2",
   "metadata": {
    "editable": true,
    "slideshow": {
     "slide_type": ""
    },
    "tags": []
   },
   "source": [
    "## Задание 6.1. Выравнивание вложенных списков"
   ]
  },
  {
   "cell_type": "markdown",
   "id": "94028803-a2b1-4cb5-b20e-ec1cef220828",
   "metadata": {},
   "source": [
    "## Задание 6.1.1. Рекурсивная функция flatten_list_v1 "
   ]
  },
  {
   "cell_type": "code",
   "execution_count": 8,
   "id": "b4385ef2-2b7e-4662-98da-7358209c9b77",
   "metadata": {},
   "outputs": [
    {
     "data": {
      "text/plain": [
       "\u001b[1;31mSignature:\u001b[0m \u001b[0misinstance\u001b[0m\u001b[1;33m(\u001b[0m\u001b[0mobj\u001b[0m\u001b[1;33m,\u001b[0m \u001b[0mclass_or_tuple\u001b[0m\u001b[1;33m,\u001b[0m \u001b[1;33m/\u001b[0m\u001b[1;33m)\u001b[0m\u001b[1;33m\u001b[0m\u001b[1;33m\u001b[0m\u001b[0m\n",
       "\u001b[1;31mDocstring:\u001b[0m\n",
       "Return whether an object is an instance of a class or of a subclass thereof.\n",
       "\n",
       "A tuple, as in ``isinstance(x, (A, B, ...))``, may be given as the target to\n",
       "check against. This is equivalent to ``isinstance(x, A) or isinstance(x, B)\n",
       "or ...`` etc.\n",
       "\u001b[1;31mType:\u001b[0m      builtin_function_or_method"
      ]
     },
     "metadata": {},
     "output_type": "display_data"
    }
   ],
   "source": [
    "it_list = [[1],[2,[3]],[[[[[4]]]]],5,6,7]\n",
    "?isinstance"
   ]
  },
  {
   "cell_type": "markdown",
   "id": "063a5be6-db2e-4364-8373-b46404f84b73",
   "metadata": {},
   "source": [
    "Напишем рекурсивную функцию flatten_list_v1(nested_obj) , которая\n",
    "выравнивает вложенный список nested_obj и возвращает список, содержащий\n",
    "только элементы исходного списка без сохранения его структуры."
   ]
  },
  {
   "cell_type": "markdown",
   "id": "547a0e9f-896d-4c3c-bfe6-832fd3ccc9c0",
   "metadata": {},
   "source": [
    "написать комментарии для каждой строки кода функции flatten_list_v1 "
   ]
  },
  {
   "cell_type": "code",
   "execution_count": 12,
   "id": "1e9fef3c-def1-48f2-a7da-5c0b6af6818e",
   "metadata": {},
   "outputs": [
    {
     "data": {
      "text/plain": [
       "[1, 2, 3, 4, 5, 6, 7]"
      ]
     },
     "execution_count": 12,
     "metadata": {},
     "output_type": "execute_result"
    }
   ],
   "source": [
    "def flatten_list_v1(nested_obj):\n",
    "    result = []\n",
    "    if isinstance(nested_obj,list): # проверка является ли объект списком\n",
    "        for item in nested_obj: # проходим по элементам списка\n",
    "            result += flatten_list_v1(item) # рекурсия\n",
    "    else:\n",
    "        result += [nested_obj] # добавляем в результат\n",
    "    return result\n",
    "flatten_list_v1(it_list)"
   ]
  },
  {
   "cell_type": "markdown",
   "id": "f661c66a-6f44-40de-a57f-16f94026068f",
   "metadata": {
    "editable": true,
    "slideshow": {
     "slide_type": ""
    },
    "tags": []
   },
   "source": [
    "## Задание 6.1.2. Генераторная функция на основе рекурсии flatten_list_v2"
   ]
  },
  {
   "cell_type": "markdown",
   "id": "4a97915e-1ade-47a6-99d6-9cc466a7f545",
   "metadata": {},
   "source": [
    "На основе функции flatten_list_v1 генераторную функцию\n",
    "flatten_list_v2(nested_obj) , которая выравнивает вложенный список и\n",
    "возвращает генератнорый объект для элементов вложенного списка.\n",
    "Реализация генераторной функции flatten_list_v2 будет проще реализации\n",
    "функции flatten_list_v1 , так как не нужно объединять все объекты в единый\n",
    "результирующий список."
   ]
  },
  {
   "cell_type": "markdown",
   "id": "7ba73266-79cb-4304-8b34-398b04f9ff7c",
   "metadata": {},
   "source": [
    "**вариант 1(yield)**"
   ]
  },
  {
   "cell_type": "code",
   "execution_count": 17,
   "id": "c3615595-0c48-4665-8500-f0c00c60a4b4",
   "metadata": {},
   "outputs": [
    {
     "name": "stdout",
     "output_type": "stream",
     "text": [
      "[1, 2, 3, 4, 5, 6, 7]\n"
     ]
    }
   ],
   "source": [
    "def flatten_list_v2(nested_obj):\n",
    "    if isinstance(nested_obj, list):  # проверяем, является ли объект списком\n",
    "        for item in nested_obj:  # проходим по элементам списка\n",
    "            for sub_item in flatten_list_v2(item):  # рекурсивно генерируем элементы\n",
    "                yield sub_item  # генерируем элементы\n",
    "    else:\n",
    "        yield nested_obj  # генерируем элемент, если он не список\n",
    "print([x for x in flatten_list_v2(it_list)])"
   ]
  },
  {
   "cell_type": "markdown",
   "id": "8e7620fa-06a1-4a5f-bc5b-03fd1316b759",
   "metadata": {},
   "source": [
    "**вариант 2(yield from)**"
   ]
  },
  {
   "cell_type": "code",
   "execution_count": 20,
   "id": "05437e3a-637b-42f3-b76d-533561a0cf71",
   "metadata": {},
   "outputs": [
    {
     "name": "stdout",
     "output_type": "stream",
     "text": [
      "[1, 2, 3, 4, 5, 6, 7]\n"
     ]
    }
   ],
   "source": [
    "def flatten_list_v2_v2(nested_obj):\n",
    "    if isinstance(nested_obj, list):  # проверяем, является ли объект списком\n",
    "        for item in nested_obj:  # проходим по элементам списка\n",
    "            yield from flatten_list_v2_v2(item)  # генерируем элементы\n",
    "    else:\n",
    "        yield nested_obj  # генерируем элемент, если он не список\n",
    "print([x for x in flatten_list_v2_v2(it_list)])"
   ]
  },
  {
   "cell_type": "markdown",
   "id": "a03206cb-6610-4402-9572-ed0b4e8d2d86",
   "metadata": {},
   "source": [
    "## Задание 6.1.3. Функция flatten_list: создание, документирование, тестирование"
   ]
  },
  {
   "cell_type": "markdown",
   "id": "1d6ba8e9-2587-4a8b-9f3a-9393e581f8f6",
   "metadata": {},
   "source": [
    "Объедините две пользовательские функции flatten_list_v1 и flatten_list_v2 в одну пользовательскую функцию flatten_list(nested_obj, gen), которая возвращает либо список из элементов вложенных списков без сохранения структуры, если gen=False, либо возвращает генераторный объект, если gen=True. Стандартным значением для аргумента gen является объект False"
   ]
  },
  {
   "cell_type": "markdown",
   "id": "4cd50367-bea9-4fcf-a608-4c058de35904",
   "metadata": {},
   "source": [
    "Напишите строки документации для функции flatten_list."
   ]
  },
  {
   "cell_type": "code",
   "execution_count": 25,
   "id": "24a92209-5939-4e94-8681-6b562012d064",
   "metadata": {},
   "outputs": [],
   "source": [
    "def flatten_list(nested_obj, gen=False):\n",
    "    \"\"\" Возвращает список или генераторный объект элементов вложенных списков. \"\"\"\n",
    "    if gen:\n",
    "        return flatten_list_v2(nested_obj)  # генераторный объект\n",
    "    else:\n",
    "        return flatten_list_v1(nested_obj)  # список"
   ]
  },
  {
   "cell_type": "markdown",
   "id": "290b3284-1dc8-4664-8370-85f6d6ea3b5b",
   "metadata": {},
   "source": [
    "Приведите три примера вызова функции flatten_list для различных значений аргументов в предположении, что корректность вводимых данных гарантируется."
   ]
  },
  {
   "cell_type": "markdown",
   "id": "29156164-84c8-43ba-bb74-06590d6a8b04",
   "metadata": {},
   "source": [
    "пример 1:"
   ]
  },
  {
   "cell_type": "code",
   "execution_count": 29,
   "id": "8aacc095-591b-412d-a01d-600a8a21c074",
   "metadata": {},
   "outputs": [
    {
     "name": "stdout",
     "output_type": "stream",
     "text": [
      "[1, 2, 3, 4, 5, 6]\n"
     ]
    }
   ],
   "source": [
    "nested_list = [1, [2, [3, 4], 5], 6]\n",
    "result = flatten_list(nested_list, gen=False)\n",
    "print(result)  "
   ]
  },
  {
   "cell_type": "markdown",
   "id": "5ea17d09-0d47-4469-acf8-7e442029ff38",
   "metadata": {},
   "source": [
    "пример 2:"
   ]
  },
  {
   "cell_type": "code",
   "execution_count": 32,
   "id": "96756ee1-3ae8-46f7-9cd2-aff5055c3a8e",
   "metadata": {},
   "outputs": [
    {
     "name": "stdout",
     "output_type": "stream",
     "text": [
      "[1, 2, 3, 4, 5, 6, 7]\n"
     ]
    }
   ],
   "source": [
    "nested_list = [[1, [2, 3]], [4], [5, [6, 7]]]\n",
    "result_gen = flatten_list(nested_list, gen=True)\n",
    "print(list(result_gen))  "
   ]
  },
  {
   "cell_type": "markdown",
   "id": "387c68b0-e96b-4c3d-814a-6b246680f666",
   "metadata": {},
   "source": [
    "пример 3:"
   ]
  },
  {
   "cell_type": "code",
   "execution_count": 35,
   "id": "c79cd3a4-1670-480b-8b86-facf22ff28c7",
   "metadata": {},
   "outputs": [
    {
     "name": "stdout",
     "output_type": "stream",
     "text": [
      "[1, 2]\n"
     ]
    }
   ],
   "source": [
    "empty_nested = [[], [[]], [1, [2]]]\n",
    "result = flatten_list(empty_nested, gen=False)\n",
    "print(result) "
   ]
  },
  {
   "cell_type": "markdown",
   "id": "2617e6a7-ac20-4c66-a079-00f1b47d6a89",
   "metadata": {},
   "source": [
    "## Задание 6.2. Выравнивание вложенных итерируемых объектов произвольного типа"
   ]
  },
  {
   "cell_type": "code",
   "execution_count": 38,
   "id": "de69e097-69f5-4520-867c-ac623e7023b8",
   "metadata": {},
   "outputs": [
    {
     "data": {
      "text/plain": [
       "[[1], [2, [3]], [[[[[4]]]]], 5, 6, 7]"
      ]
     },
     "execution_count": 38,
     "metadata": {},
     "output_type": "execute_result"
    }
   ],
   "source": [
    "it_list"
   ]
  },
  {
   "cell_type": "code",
   "execution_count": 40,
   "id": "2707ee14-3736-4199-8e1b-94faac46a784",
   "metadata": {},
   "outputs": [],
   "source": [
    "it_tuple = (((7),(8)),(9),10)"
   ]
  },
  {
   "cell_type": "code",
   "execution_count": 42,
   "id": "47840cdc-f846-48ed-be57-12441c64d851",
   "metadata": {},
   "outputs": [],
   "source": [
    "it_str = \"abcdefgh\""
   ]
  },
  {
   "cell_type": "code",
   "execution_count": 44,
   "id": "aa9dbcc3-c381-456b-9d20-40177d58990b",
   "metadata": {},
   "outputs": [],
   "source": [
    "it_dict = {\"key1\": 11, \"key2\": {\"key3\": 12}}"
   ]
  },
  {
   "cell_type": "code",
   "execution_count": 46,
   "id": "12eb16a5-caab-4bf4-b4b7-f0d5f7005b66",
   "metadata": {},
   "outputs": [],
   "source": [
    "it_gen = ([i,i**2,i**3] for i in range(5))"
   ]
  },
  {
   "cell_type": "code",
   "execution_count": 48,
   "id": "30c50c3f-2da7-4721-920d-dcba26614894",
   "metadata": {},
   "outputs": [],
   "source": [
    "it_file = open(\"flatten_file.txt\")"
   ]
  },
  {
   "cell_type": "code",
   "execution_count": 50,
   "id": "4783375f-25ea-492c-ac0e-1be5e8521b0d",
   "metadata": {},
   "outputs": [],
   "source": [
    "it = [it_list, it_tuple, it_str, it_dict, it_gen, it_file]"
   ]
  },
  {
   "cell_type": "code",
   "execution_count": 52,
   "id": "193fc96f-ed91-4463-85f2-d3caab8188f9",
   "metadata": {},
   "outputs": [
    {
     "data": {
      "text/plain": [
       "[True, True, True, True, True, True]"
      ]
     },
     "execution_count": 52,
     "metadata": {},
     "output_type": "execute_result"
    }
   ],
   "source": [
    "['__iter__' in dir(x) for x in it]"
   ]
  },
  {
   "cell_type": "code",
   "execution_count": 54,
   "id": "90543c80-2ca5-46c7-888e-a2db994e10f4",
   "metadata": {},
   "outputs": [
    {
     "data": {
      "text/plain": [
       "[True, True, True, True, True, True]"
      ]
     },
     "execution_count": 54,
     "metadata": {},
     "output_type": "execute_result"
    }
   ],
   "source": [
    "[hasattr(x, '__iter__') for x in it]"
   ]
  },
  {
   "cell_type": "code",
   "execution_count": 56,
   "id": "10288001-8b0f-4fae-8743-baf794c9b819",
   "metadata": {},
   "outputs": [
    {
     "data": {
      "text/plain": [
       "\u001b[1;31mSignature:\u001b[0m \u001b[0mhasattr\u001b[0m\u001b[1;33m(\u001b[0m\u001b[0mobj\u001b[0m\u001b[1;33m,\u001b[0m \u001b[0mname\u001b[0m\u001b[1;33m,\u001b[0m \u001b[1;33m/\u001b[0m\u001b[1;33m)\u001b[0m\u001b[1;33m\u001b[0m\u001b[1;33m\u001b[0m\u001b[0m\n",
       "\u001b[1;31mDocstring:\u001b[0m\n",
       "Return whether the object has an attribute with the given name.\n",
       "\n",
       "This is done by calling getattr(obj, name) and catching AttributeError.\n",
       "\u001b[1;31mType:\u001b[0m      builtin_function_or_method"
      ]
     },
     "metadata": {},
     "output_type": "display_data"
    }
   ],
   "source": [
    "?hasattr"
   ]
  },
  {
   "cell_type": "markdown",
   "id": "6434206d-e67d-40f5-9ab8-c604853a86a3",
   "metadata": {},
   "source": [
    "## Задание 6.2.1. Рекурсивная функция flatten_it_v1"
   ]
  },
  {
   "cell_type": "markdown",
   "id": "167f19d7-8047-4dff-bf82-97604659d270",
   "metadata": {},
   "source": [
    "На основе функции flatten_list_v1(nested_obj) напишите пользовательскую функцию flatten_it_v1(nested_obj) одного аргумента, которая выравнивает вложенную структуру из различных итерируемых объектов и возвращает список, содержащий только элементы без сохранения структуры."
   ]
  },
  {
   "cell_type": "markdown",
   "id": "6429a038-e4c7-44e4-b30c-2ce91ab199b7",
   "metadata": {},
   "source": [
    "Напишите комментарии для каждой строки кода функции flatten_it_v1"
   ]
  },
  {
   "cell_type": "code",
   "execution_count": 61,
   "id": "da30383a-65f8-4aa2-b22f-8cb422bf79fb",
   "metadata": {},
   "outputs": [
    {
     "name": "stdout",
     "output_type": "stream",
     "text": [
      "[1, 2, 3, 4, 5, 6, 7]\n"
     ]
    }
   ],
   "source": [
    "def flatten_it_v1(nested_obj):\n",
    "    result = [] \n",
    "    if hasattr(nested_obj, '__iter__'):  # проверяем, является ли объект итерируемым\n",
    "        if isinstance(nested_obj, str):  # если строка, не итерируем\n",
    "            result += [nested_obj]  # добавляем строку\n",
    "        elif isinstance(nested_obj, dict):  # если словарь, итерируем по ключам и значениям\n",
    "            for key, value in nested_obj.items():\n",
    "                result += flatten_it_v1(key)  # добавляем ключи\n",
    "                result += flatten_it_v1(value)  # добавляем значения\n",
    "        else:\n",
    "            for item in nested_obj:  # проходим по элементам итерируемого объекта\n",
    "                result += flatten_it_v1(item)  # рекурсивно добавляем элементы\n",
    "    else:\n",
    "        result += [nested_obj]  # добавляем элемент, если он не итерируем\n",
    "    return result  \n",
    "print(flatten_it_v1(it_list))"
   ]
  },
  {
   "cell_type": "markdown",
   "id": "5330d806-b308-4f89-b870-61d76276a082",
   "metadata": {},
   "source": [
    "## Задание 6.2.2. Генераторная функция на основе рекурсии flatten_it_v2"
   ]
  },
  {
   "cell_type": "markdown",
   "id": "5bb66adc-1ac5-4b1f-813a-136f78857fb6",
   "metadata": {},
   "source": [
    "На основе функций flatten_it_v1 и flatten_list_v2 напишите пользовательскую функцию flatten_it_v2(nested_obj), которая выравнивает вложенную структуру из различных итерируемых объектов и возвращает генератнорый объект элементов без сохранения структуры."
   ]
  },
  {
   "cell_type": "markdown",
   "id": "95242aa3-415c-4782-aaa0-a835fd65a792",
   "metadata": {},
   "source": [
    "Напишите комментарии для каждой строки кода функции flatten_it_v2."
   ]
  },
  {
   "cell_type": "code",
   "execution_count": 66,
   "id": "c5da827a-5371-4fac-801f-b96c7ff2a030",
   "metadata": {},
   "outputs": [
    {
     "name": "stdout",
     "output_type": "stream",
     "text": [
      "[1, 2, 3, 4, 5, 6, 7]\n"
     ]
    }
   ],
   "source": [
    "def flatten_it_v2(nested_obj):\n",
    "    if hasattr(nested_obj, '__iter__'):  # проверяем, является ли объект итерируемым\n",
    "        if isinstance(nested_obj, str):  # если строка, не итерируем\n",
    "            yield nested_obj  # генерируем строку\n",
    "        elif isinstance(nested_obj, dict):  # если словарь, итерируем по ключам и значениям\n",
    "            for key, value in nested_obj.items():\n",
    "                yield from flatten_it_v2(key)  # генерируем ключи\n",
    "                yield from flatten_it_v2(value)  # генерируем значения\n",
    "        else:\n",
    "            for item in nested_obj:  # проходим по элементам итерируемого объекта\n",
    "                yield from flatten_it_v2(item)  # генерируем элементы рекурсивно\n",
    "    else:\n",
    "        yield nested_obj  # генерируем элемент, если он не итерируем\n",
    "print([x for x in flatten_it_v2(it_list)])"
   ]
  },
  {
   "cell_type": "markdown",
   "id": "a2ac1838-04d7-4bcc-a084-b71148fec14f",
   "metadata": {},
   "source": [
    "## Задание 6.2.3. Функция flatten_it: создание, документирование, тестирование"
   ]
  },
  {
   "cell_type": "markdown",
   "id": "87cc4481-55c4-48cb-a3c3-3041209d7da8",
   "metadata": {},
   "source": [
    "Объедините две пользовательские функции flatten_it_v1 и flatten_it_v2 в одну функцию flatten_it(nested_obj, gen), которая возвращает либо список из элементов вложенных объектов без сохранения структуры, если gen=False, либо возвращает генераторный объект, если gen=True. Стандартным значением для аргумента gen является объект False.\n",
    "\n",
    "Напишите строки документации для функции flatten_it.\n",
    "\n",
    "Приведите три примера вызова функции flatten_it для различных значений аргументов в предположении, что корректность вводимых данных гарантируется."
   ]
  },
  {
   "cell_type": "code",
   "execution_count": 70,
   "id": "a1bdbe5f-3ade-44de-85f3-605546acb4a7",
   "metadata": {},
   "outputs": [],
   "source": [
    "def flatten_it(nested_obj, gen=False):\n",
    "    \"\"\"\n",
    "    Функция для выравнивания вложенных итерируемых объектов.\n",
    "\n",
    "    Параметры:\n",
    "    nested_obj: любой итерируемый объект (список, кортеж, строка, словарь и т.д.), который может содержать другие вложенные итерируемые объекты.\n",
    "    gen: логическое значение (по умолчанию False). Если True, функция вернет генераторный объект, иначе — список.\n",
    "\n",
    "    Возвращает:\n",
    "    Список или генераторный объект, содержащий элементы вложенной структуры,\n",
    "    выровненные в одномерный вид.\n",
    "\n",
    "    Исключения:\n",
    "    ValueError, если обнаружен циклический объект.\n",
    "    \"\"\"\n",
    "\n",
    "    if gen:\n",
    "        return flatten_it_v2(nested_obj) \n",
    "    else:\n",
    "        return flatten_it_v1(nested_obj) "
   ]
  },
  {
   "cell_type": "markdown",
   "id": "46480a30-4697-4288-a8e4-72557ace739a",
   "metadata": {},
   "source": [
    "пример 1:"
   ]
  },
  {
   "cell_type": "code",
   "execution_count": 77,
   "id": "81e4088a-65dc-44ea-b137-6c98216ed2e5",
   "metadata": {},
   "outputs": [
    {
     "name": "stdout",
     "output_type": "stream",
     "text": [
      "[1, 2, 3, 4, 5, 6, 7]\n"
     ]
    }
   ],
   "source": [
    "nested_list = [[1, 2, [3]], 4, [5, [6, 7]]]\n",
    "result = flatten_it(nested_list)\n",
    "print(result) "
   ]
  },
  {
   "cell_type": "markdown",
   "id": "b321a41c-bc06-4f85-bd5b-36f9376f141e",
   "metadata": {},
   "source": [
    "пример 2:"
   ]
  },
  {
   "cell_type": "code",
   "execution_count": 86,
   "id": "d2960242-b89b-4b75-adca-3e15607e28a7",
   "metadata": {},
   "outputs": [
    {
     "name": "stdout",
     "output_type": "stream",
     "text": [
      "[1, 2, 3, 4, 5, 6]\n"
     ]
    }
   ],
   "source": [
    "nested_tuple = (1, (2, (3, 4)), (5, 6))\n",
    "result_gen = flatten_it(nested_tuple, gen=True)\n",
    "print(list(result_gen)) "
   ]
  },
  {
   "cell_type": "markdown",
   "id": "37badf09-23ee-4cda-b110-06728a79f482",
   "metadata": {},
   "source": [
    "пример 3:"
   ]
  },
  {
   "cell_type": "code",
   "execution_count": 89,
   "id": "f052fcf6-aff3-41c3-b81b-7b4db338d3a7",
   "metadata": {},
   "outputs": [
    {
     "name": "stdout",
     "output_type": "stream",
     "text": [
      "['a', 1, 'b', 'c', 2, 'd', 3, 4]\n"
     ]
    }
   ],
   "source": [
    "nested_dict = {'a': 1, 'b': {'c': 2, 'd': [3, 4]}}\n",
    "result = flatten_it(nested_dict)\n",
    "print(result)  "
   ]
  },
  {
   "cell_type": "markdown",
   "id": "ebaf8ecb-7c85-47d2-9130-3a476b84bbed",
   "metadata": {},
   "source": [
    "## Задание 6.3. Обработка циклических объектов"
   ]
  },
  {
   "cell_type": "code",
   "execution_count": 92,
   "id": "70bd7883-8260-4b88-993d-33b3b71568d5",
   "metadata": {},
   "outputs": [
    {
     "data": {
      "text/plain": [
       "[[1], [2, [3]], [[[[[4]]]]], 5, 6, 7, [...]]"
      ]
     },
     "execution_count": 92,
     "metadata": {},
     "output_type": "execute_result"
    }
   ],
   "source": [
    "it_list_cyclic = it_list[:]\n",
    "it_list_cyclic.append(it_list_cyclic)\n",
    "it_list_cyclic"
   ]
  },
  {
   "cell_type": "code",
   "execution_count": 94,
   "id": "297b7c7d-6fbe-4f27-9fcb-8b125aad2f4e",
   "metadata": {},
   "outputs": [
    {
     "data": {
      "text/plain": [
       "[1, 2, 3, 4, 5, 6, 7]"
      ]
     },
     "execution_count": 94,
     "metadata": {},
     "output_type": "execute_result"
    }
   ],
   "source": [
    "def flatten_list_v1(nested_obj):\n",
    "    result = []\n",
    "    if isinstance(nested_obj,list):\n",
    "        for item in nested_obj:\n",
    "            if item is nested_obj:\n",
    "                raise ValueError(\"Cyclic list is found\") # генерация исключения\n",
    "            else:\n",
    "                result += flatten_list_v1(item)\n",
    "    else:\n",
    "        result += [nested_obj]\n",
    "    return result\n",
    "flatten_list_v1(it_list)"
   ]
  },
  {
   "cell_type": "code",
   "execution_count": 96,
   "id": "36936779-eaa1-48a4-a209-90d836f2216f",
   "metadata": {},
   "outputs": [
    {
     "name": "stdout",
     "output_type": "stream",
     "text": [
      "Cyclic list is found\n"
     ]
    }
   ],
   "source": [
    "try:\n",
    "    print(flatten_list_v1(it_list_cyclic))\n",
    "except ValueError as e:\n",
    "    print(e)"
   ]
  },
  {
   "cell_type": "markdown",
   "id": "9c3eca2f-46ea-4ffa-97d2-dde98790e840",
   "metadata": {},
   "source": [
    "## Задание 6.3.1. Доопределение функции flatten_it"
   ]
  },
  {
   "cell_type": "code",
   "execution_count": 99,
   "id": "689192e4-d69d-4050-b105-f3ad09640a11",
   "metadata": {},
   "outputs": [],
   "source": [
    "def flatten_it(nested_obj, gen=False):\n",
    "    seen = set()  # для отслеживания уже обработанных объектов\n",
    "\n",
    "    def _flatten(nested_obj):\n",
    "        if id(nested_obj) in seen:  # проверяем на цикличность\n",
    "            raise ValueError(\"Cyclic object is found\")\n",
    "        seen.add(id(nested_obj))\n",
    "\n",
    "        if hasattr(nested_obj, '__iter__') and not isinstance(nested_obj, str):\n",
    "            for item in nested_obj:\n",
    "                yield from _flatten(item)\n",
    "        else:\n",
    "            yield nested_obj\n",
    "\n",
    "    if gen:\n",
    "        return _flatten(nested_obj)\n",
    "    else:\n",
    "        return list(_flatten(nested_obj))"
   ]
  },
  {
   "cell_type": "markdown",
   "id": "e7304981-e50a-4109-a475-e53a6d67bc86",
   "metadata": {},
   "source": [
    "## Задание 6.3.2. Тестирование функции flatten_it"
   ]
  },
  {
   "cell_type": "markdown",
   "id": "ed822e5b-d768-4b84-88ec-a91fa9a58304",
   "metadata": {},
   "source": [
    "Протестируйте функцию flatten_it, перехватывая исключение ValueError с помощью операторов try / except для циклических объектов различных типов."
   ]
  },
  {
   "cell_type": "markdown",
   "id": "b1946c93-ec00-4b4a-a27c-5a308af1844e",
   "metadata": {},
   "source": [
    "1. циклический список"
   ]
  },
  {
   "cell_type": "code",
   "execution_count": 104,
   "id": "d13f5d97-8875-40ed-91e6-befba996f4d8",
   "metadata": {},
   "outputs": [
    {
     "name": "stdout",
     "output_type": "stream",
     "text": [
      "Ошибка: Cyclic object is found\n"
     ]
    }
   ],
   "source": [
    "a = [1, 2, 3]\n",
    "a.append(a)  \n",
    "\n",
    "try:\n",
    "    flatten_it(a)\n",
    "except ValueError as e:\n",
    "    print(f\"Ошибка: {e}\") "
   ]
  },
  {
   "cell_type": "markdown",
   "id": "892235a2-122b-4fa2-a0dc-96521229e059",
   "metadata": {},
   "source": [
    "2. Циклический словарь"
   ]
  },
  {
   "cell_type": "code",
   "execution_count": 107,
   "id": "5b48d04c-386e-42bb-8fed-e777decd049d",
   "metadata": {},
   "outputs": [],
   "source": [
    "b = {'a': 1, 'b': 2}\n",
    "b['self'] = b \n",
    "\n",
    "try:\n",
    "    flatten_it(b)\n",
    "except ValueError as e:\n",
    "    print(f\"Ошибка: {e}\")  "
   ]
  },
  {
   "cell_type": "markdown",
   "id": "78b8aefb-65a6-4620-9b25-1312141725e3",
   "metadata": {},
   "source": [
    "3. Вложенные циклические структуры"
   ]
  },
  {
   "cell_type": "code",
   "execution_count": 115,
   "id": "aad0d354-dc63-487b-9729-fcf574ca8b1b",
   "metadata": {},
   "outputs": [
    {
     "name": "stdout",
     "output_type": "stream",
     "text": [
      "Ошибка: Cyclic object is found\n"
     ]
    }
   ],
   "source": [
    "x = [1, 2]\n",
    "y = [3, 4, x]\n",
    "x.append(y)  \n",
    "\n",
    "try:\n",
    "    flatten_it(x)\n",
    "except ValueError as e:\n",
    "    print(f\"Ошибка: {e}\") "
   ]
  },
  {
   "cell_type": "markdown",
   "id": "a2b74ec3-4bd4-4311-90ad-42ba551c5db6",
   "metadata": {},
   "source": [
    "4. Тест с генератором (gen=True)"
   ]
  },
  {
   "cell_type": "code",
   "execution_count": 118,
   "id": "e4e30994-a208-4652-a387-a2f1c57cb3b2",
   "metadata": {},
   "outputs": [],
   "source": [
    "z = [1, 2]\n",
    "z.append(z)  \n",
    "\n",
    "try:\n",
    "    result = flatten_it(z, gen=True)\n",
    "    next(result)  \n",
    "except ValueError as e:\n",
    "    print(f\"Ошибка: {e}\")  "
   ]
  }
 ],
 "metadata": {
  "kernelspec": {
   "display_name": "Python [conda env:base] *",
   "language": "python",
   "name": "conda-base-py"
  },
  "language_info": {
   "codemirror_mode": {
    "name": "ipython",
    "version": 3
   },
   "file_extension": ".py",
   "mimetype": "text/x-python",
   "name": "python",
   "nbconvert_exporter": "python",
   "pygments_lexer": "ipython3",
   "version": "3.12.3"
  }
 },
 "nbformat": 4,
 "nbformat_minor": 5
}

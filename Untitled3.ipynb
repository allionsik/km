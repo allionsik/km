{
 "cells": [
  {
   "cell_type": "markdown",
   "id": "eceab66f-5d04-4ac9-a4cc-ae700a281534",
   "metadata": {},
   "source": [
    "## Лабораторная работа 7. Построение бинарного дерева поиска. Подсчет количества элементов в дереве"
   ]
  },
  {
   "cell_type": "markdown",
   "id": "cf7c037b-0fae-4c53-aca1-05edc932de64",
   "metadata": {},
   "source": [
    "## Задание 7.1 Определение классов"
   ]
  },
  {
   "cell_type": "markdown",
   "id": "0a899686-f6e9-4779-b4b9-be953d56bd92",
   "metadata": {},
   "source": [
    "Бинарное дерево поиска будем описывать с помощью трех классов: BinaryTree ,\n",
    "BinaryNode , EmptyNode , связанных друг с другом на основе композиции.\n",
    "Проектирование классов представлено в лекции к теме Бинарное дерево поиска.\n",
    "Реализация на основе ООП.\n",
    "\n",
    "Напишите базовое определение классов BinaryTree , BinaryNode , EmptyNode\n",
    "на основе лекционных материалов. Базовое определение класса BinaryTree содержит метод инициализации\n",
    "__init__(self) , метод строкового представления __repr__(self) , метод\n",
    "вставки элемента в дерево insert(self, value) .\n",
    "Базовое определение класса BinaryNode содержит метод инициализации\n",
    "__init__(self) и метод строкового представления __repr__(self) .\n",
    "Базовое определение класса EmptyNode содержит метод строкового\n",
    "представления __repr__(self) и метод вставки элемента в дерево insert(self,\n",
    "value) .\n",
    "\n",
    "Напишите комментарии для каждой строки кода в определении классов\n",
    "BinaryTree , BinaryNode , EmptyNode ."
   ]
  },
  {
   "cell_type": "code",
   "execution_count": 217,
   "id": "0a05c696-d32a-4e87-9373-da3cee1f43ac",
   "metadata": {},
   "outputs": [],
   "source": [
    "class BinaryTree:\n",
    "    \"\"\"Бинарное дерево, управляющее корневым узлом\"\"\"\n",
    "    def __init__(self):\n",
    "        self.root = EmptyNode()  # пустое дерево\n",
    "        \n",
    "    def __repr__(self):\n",
    "        \"\"\"Строковое представление дерева\"\"\"\n",
    "        return repr(self.root)\n",
    "        \n",
    "    def insert(self, value):\n",
    "        \"\"\"Вставка значения в дерево\"\"\"\n",
    "        self.root = self.root.insert(value)  # делегируем вставку узлу\n",
    "\n",
    "    def build_from_list(self, data):\n",
    "        \"\"\"Построение дерева из списка значений\"\"\"\n",
    "        for value in data:\n",
    "            self.insert(value)\n",
    "        return self"
   ]
  },
  {
   "cell_type": "code",
   "execution_count": 219,
   "id": "b6dfa3ac-f3c5-4173-b682-06e5fd5d8da2",
   "metadata": {},
   "outputs": [],
   "source": [
    "class BinaryNode:\n",
    "    \"\"\"Узел дерева\"\"\"\n",
    "    def __init__(self, left, value, right):\n",
    "        self.left = left    # левый узел (BinaryNode или EmptyNode)\n",
    "        self.value = value  # значение узла\n",
    "        self.right = right  # правый узел (BinaryNode или EmptyNode)\n",
    "        \n",
    "    def __repr__(self):\n",
    "        \"\"\"Вывод узла в виде (левый, значение, правый)\"\"\"\n",
    "        return f'({self.left}, {self.value}, {self.right})'"
   ]
  },
  {
   "cell_type": "code",
   "execution_count": 221,
   "id": "ddfa96e2-3b06-4606-8d0f-1fab0d056a42",
   "metadata": {},
   "outputs": [],
   "source": [
    "class BinaryTree:\n",
    "    \"\"\"Бинарное дерево, управляющее корневым узлом\"\"\"\n",
    "    def __init__(self):\n",
    "        self.root = EmptyNode()  # пустое дерево\n",
    "        \n",
    "    def __repr__(self):\n",
    "        \"\"\"Строковое представление дерева\"\"\"\n",
    "        return repr(self.root)\n",
    "        \n",
    "    def __contains__(self, value):\n",
    "        \"\"\"Проверка наличия значения в дереве (оператор in)\"\"\"\n",
    "        return value in self.root\n",
    "        \n",
    "    def insert(self, value):\n",
    "        \"\"\"Вставка значения в дерево\"\"\"\n",
    "        self.root = self.root.insert(value)  # делегируем вставку узлу\n",
    "\n",
    "    def build_from_list(self, data):\n",
    "        \"\"\"Построение дерева из списка значений\"\"\"\n",
    "        for value in data:\n",
    "            self.insert(value)\n",
    "        return self"
   ]
  },
  {
   "cell_type": "markdown",
   "id": "4dbaddc0-1918-4705-9b93-675d43e8c23b",
   "metadata": {},
   "source": [
    "## Задание 7.2. Метод вставки элемента в бинарное дерево поиска"
   ]
  },
  {
   "cell_type": "markdown",
   "id": "05b5cf65-5215-4793-a637-4c94d568b5a4",
   "metadata": {},
   "source": [
    "Переопределите класс BinaryNode за счет определения метода вставки\n",
    "insert(self, value) . Рекомендации по выполнению представлены в лекции к\n",
    "теме Бинарное дерево поиска. Реализация на основе ООП."
   ]
  },
  {
   "cell_type": "code",
   "execution_count": 225,
   "id": "ca40bbe2-c370-4faf-83e2-3483cf1270e0",
   "metadata": {},
   "outputs": [],
   "source": [
    "class BinaryNode:\n",
    "    \"\"\"Узел бинарного дерева поиска (BST)\"\"\"\n",
    "    def __init__(self, left, value, right):\n",
    "        self.left = left    # левый потомок (BinaryNode или EmptyNode)\n",
    "        self.value = value  # значение узла\n",
    "        self.right = right  # правый потомок (BinaryNode или EmptyNode)\n",
    "        \n",
    "    def __repr__(self):\n",
    "        return f'({self.left}, {self.value}, {self.right})'\n",
    "    \n",
    "    def insert(self, value):\n",
    "        \"\"\"Рекурсивная вставка значения согласно правилам BST\"\"\"\n",
    "        if value < self.value:\n",
    "            self.left = self.left.insert(value)  # влево, если значение меньше\n",
    "        else:\n",
    "            self.right = self.right.insert(value) # вправо, если >=\n",
    "        return self"
   ]
  },
  {
   "cell_type": "markdown",
   "id": "b42b3956-79e1-45df-a678-3e00fc4b8296",
   "metadata": {},
   "source": [
    "Приведите 3 примера построения бинарного дерева поиска на\n",
    "основе итерируемых объектов различных типов (например, str , range , list )."
   ]
  },
  {
   "cell_type": "markdown",
   "id": "c4f55695-6605-481c-9f1c-0267c27a1181",
   "metadata": {},
   "source": [
    "1. Построение BST из строки (str):"
   ]
  },
  {
   "cell_type": "code",
   "execution_count": 229,
   "id": "46ddc9d7-b1e9-4a68-8a3a-2d85cf4752be",
   "metadata": {},
   "outputs": [
    {
     "name": "stdout",
     "output_type": "stream",
     "text": [
      "BST из строки 'binarytree':\n"
     ]
    },
    {
     "data": {
      "text/plain": [
       "['a', 'b', 'e', 'e', 'i', 'n', 'r', 'r', 't', 'y']"
      ]
     },
     "execution_count": 229,
     "metadata": {},
     "output_type": "execute_result"
    }
   ],
   "source": [
    "data_str = \"binarytree\"\n",
    "root_str = None\n",
    "for char in data_str:\n",
    "    root_str = insert(root_str, char)\n",
    "\n",
    "print(\"BST из строки 'binarytree':\")\n",
    "inorder_traversal(root_str) "
   ]
  },
  {
   "cell_type": "markdown",
   "id": "21dbbb64-0bc5-4d80-aac7-de0622eaab2e",
   "metadata": {},
   "source": [
    "2. Построение BST из range:"
   ]
  },
  {
   "cell_type": "code",
   "execution_count": 232,
   "id": "bffbfd72-fdcc-403f-908e-1b1bbc5c7aac",
   "metadata": {},
   "outputs": [
    {
     "name": "stdout",
     "output_type": "stream",
     "text": [
      "\n",
      "BST из range(5, 15, 2):\n"
     ]
    },
    {
     "data": {
      "text/plain": [
       "[5, 7, 9, 11, 13]"
      ]
     },
     "execution_count": 232,
     "metadata": {},
     "output_type": "execute_result"
    }
   ],
   "source": [
    "data_range = range(5, 15, 2)\n",
    "root_range = None\n",
    "for num in data_range:\n",
    "    root_range = insert(root_range, num)\n",
    "\n",
    "print(\"\\nBST из range(5, 15, 2):\")\n",
    "inorder_traversal(root_range)  "
   ]
  },
  {
   "cell_type": "markdown",
   "id": "3104aefb-2abc-4950-9af6-0a0ade8b241e",
   "metadata": {},
   "source": [
    "3. Построение BST из списка (list):"
   ]
  },
  {
   "cell_type": "code",
   "execution_count": 235,
   "id": "633fb1a4-e428-4645-bdd3-3e94d743879a",
   "metadata": {},
   "outputs": [
    {
     "name": "stdout",
     "output_type": "stream",
     "text": [
      "\n",
      "BST из списка [10, 5, 15, 3, 7, 12, 20]:\n"
     ]
    },
    {
     "data": {
      "text/plain": [
       "[3, 5, 7, 10, 12, 15, 20]"
      ]
     },
     "execution_count": 235,
     "metadata": {},
     "output_type": "execute_result"
    }
   ],
   "source": [
    "data_list = [10, 5, 15, 3, 7, 12, 20]\n",
    "root_list = None\n",
    "for num in data_list:\n",
    "    root_list = insert(root_list, num)\n",
    "\n",
    "print(\"\\nBST из списка [10, 5, 15, 3, 7, 12, 20]:\")\n",
    "inorder_traversal(root_list) "
   ]
  },
  {
   "cell_type": "markdown",
   "id": "56d33a50-bab8-4d0c-b426-2d4c8332a919",
   "metadata": {},
   "source": [
    "Протестируйте корректность построения бинарного дерева поиска на основе\n",
    "вставки в дерево элементов некоторого итерируемого объекта. При этом важно,\n",
    "чтобы для элементов итерируемого объекта были определены операции\n",
    "сравнения. "
   ]
  },
  {
   "cell_type": "code",
   "execution_count": 238,
   "id": "b7d44f41-74ef-437b-9d72-517b191c65d7",
   "metadata": {},
   "outputs": [
    {
     "data": {
      "text/plain": [
       "[3, 5, 7, 8, 10, 12, 15, 20]"
      ]
     },
     "execution_count": 238,
     "metadata": {},
     "output_type": "execute_result"
    }
   ],
   "source": [
    "data = [10, 5, 15, 3, 7, 12, 20]\n",
    "root = None\n",
    "for num in data:\n",
    "    root = insert(root, num)\n",
    "#проверка перед вставкой\n",
    "assert is_bst(root)\n",
    "assert inorder_traversal(root) == [3, 5, 7, 10, 12, 15, 20]\n",
    "#вставляем новый элемент (8)\n",
    "root = insert(root, 8)\n",
    "#проверка после вставки\n",
    "assert is_bst(root)\n",
    "#assert inorder_traversal(root) == [3, 5, 7, 8, 10, 12, 15, 20]\n",
    "inorder_traversal(root)"
   ]
  },
  {
   "cell_type": "code",
   "execution_count": 240,
   "id": "82da6c93-056e-4a70-8418-93eedacfab41",
   "metadata": {},
   "outputs": [
    {
     "name": "stdout",
     "output_type": "stream",
     "text": [
      "(*, addje, (*, slfkvdsa, *))\n"
     ]
    }
   ],
   "source": [
    "tree = BinaryTree()#вставка по длине\n",
    "tree.insert(\"addje\")\n",
    "tree.insert(\"slfkvdsa\")\n",
    "print(tree)"
   ]
  },
  {
   "cell_type": "code",
   "execution_count": 242,
   "id": "9ab09d05-fde0-4807-bb02-e651013653c3",
   "metadata": {},
   "outputs": [
    {
     "name": "stdout",
     "output_type": "stream",
     "text": [
      "((*, 7, *), 9, (*, 9, *))\n"
     ]
    }
   ],
   "source": [
    "tree = BinaryTree()\n",
    "tree.insert(9)\n",
    "tree.insert(9)\n",
    "tree.insert(7)\n",
    "print(tree) "
   ]
  },
  {
   "cell_type": "markdown",
   "id": "1631fac3-b6f5-46df-af1d-ec0c08af7fec",
   "metadata": {},
   "source": [
    "## Задание 7.3 Построение бинарного дерева поиска"
   ]
  },
  {
   "cell_type": "markdown",
   "id": "5da7f4c9-00bd-475f-a474-b37896febe6e",
   "metadata": {},
   "source": [
    "Прочитайте числовые данные, записанные в файлы, и постройте на основании этих данных бинарные деревья поиска.\n",
    "\n",
    "Рассмотрите четыре варианта хранения данных в файлах:\n",
    "\n",
    "1.числовые данные хранятся в текстовом файле и записаны в столбец;\n",
    "\n",
    "2.числовые данные хранятся в текстовом файле, записаны в строки, разделены пробелами, в каждой строке расположено одинаковое количество числовых значений;\n",
    "\n",
    "3.числовые данные хранятся в текстовом файле, записаны в строки, разделены пробелами, в каждой строке расположено различное количество числовых значений;\n",
    "\n",
    "4.числовые данные хранятся в файле формата json.\n",
    "\n",
    "Рекомендации по выполнению:\n",
    "\n",
    "cтроковый метод split разбирает строку на список подстрок по разделителю;\n",
    "строковые объекты нужно преобразовывать в числовые объекты перед их записью в бинарное дерево поиска;\n",
    "функция loadtxt из расширения numpy читает числовые даннные из текстового файла без предварительного создания файлового объекта; в каждой строке файла должно быть расположено одинаковое количество числовых значений;\n",
    "для работы с файлами в формате json используйте, например, функции load и values из модуля json. Для используемых функций модуля сформулируйте спецификации."
   ]
  },
  {
   "cell_type": "markdown",
   "id": "a8d095da-afec-4b6d-8442-adddfc0aba0a",
   "metadata": {},
   "source": [
    "1. в столбце(файл data_column.txt)"
   ]
  },
  {
   "cell_type": "code",
   "execution_count": 247,
   "id": "d630a46e-6083-4d8c-975b-e35ff337fed7",
   "metadata": {},
   "outputs": [
    {
     "name": "stdout",
     "output_type": "stream",
     "text": [
      "In-order обход: [3, 5, 7, 10, 12, 15, 20]\n"
     ]
    }
   ],
   "source": [
    "def build_bst_from_column(file_path):\n",
    "    root = None\n",
    "    with open(file_path, 'r') as file:\n",
    "        for line in file:\n",
    "            num = int(line.strip())  #преобразуем строку в число\n",
    "            root = insert(root, num)\n",
    "    return root\n",
    "bst_column = build_bst_from_column('data_column.txt')\n",
    "assert is_bst(bst_column)\n",
    "print(\"In-order обход:\", inorder_traversal(bst_column))  # [3, 5, 7, 10, 12, 15, 20]"
   ]
  },
  {
   "cell_type": "markdown",
   "id": "75fcc222-0d6e-47cb-85fd-d2968a35a3d9",
   "metadata": {},
   "source": [
    "2.  Данные в строках с фиксированным количеством чисел (разделены пробелами)(data_rows_fixed.txt)"
   ]
  },
  {
   "cell_type": "code",
   "execution_count": 250,
   "id": "cbfdb28d-ed9e-4265-a5c5-c62b6cf0ddeb",
   "metadata": {},
   "outputs": [
    {
     "name": "stdout",
     "output_type": "stream",
     "text": [
      "In-order обход: [3, 5, 7, 10, 12, 15, 20]\n"
     ]
    }
   ],
   "source": [
    "def build_bst_from_rows_fixed(file_path):\n",
    "    root = None\n",
    "    with open(file_path, 'r') as file:\n",
    "        for line in file:\n",
    "            nums = list(map(int, line.strip().split()))  #разбиваем строку на числа\n",
    "            for num in nums:\n",
    "                root = insert(root, num)\n",
    "    return root\n",
    "bst_rows_fixed = build_bst_from_rows_fixed('data_rows_fixed.txt')\n",
    "assert is_bst(bst_rows_fixed)\n",
    "print(\"In-order обход:\", inorder_traversal(bst_rows_fixed))  # [3, 5, 7, 10, 12, 15, 20]"
   ]
  },
  {
   "cell_type": "markdown",
   "id": "2dfa9194-3c5e-4ea9-b1a7-c2b59ea4b8d5",
   "metadata": {},
   "source": [
    "3. Данные в строках с переменным количеством чисел (разделены пробелами)(data_rows_variable.txt)"
   ]
  },
  {
   "cell_type": "code",
   "execution_count": 253,
   "id": "4a6f991d-1230-4b9b-b0a1-d8cc1e215196",
   "metadata": {},
   "outputs": [
    {
     "name": "stdout",
     "output_type": "stream",
     "text": [
      "In-order обход: [3, 5, 7, 10, 12, 15, 20]\n"
     ]
    }
   ],
   "source": [
    "def build_bst_from_rows_variable(file_path):\n",
    "    root = None\n",
    "    with open(file_path, 'r') as file:\n",
    "        for line in file:\n",
    "            nums = list(map(int, line.strip().split()))\n",
    "            for num in nums:\n",
    "                root = insert(root, num)\n",
    "    return root\n",
    "bst_rows_var = build_bst_from_rows_variable('data_rows_variable.txt')\n",
    "assert is_bst(bst_rows_var)\n",
    "print(\"In-order обход:\", inorder_traversal(bst_rows_var))  # [3, 5, 7, 10, 12, 15, 20]"
   ]
  },
  {
   "cell_type": "markdown",
   "id": "23e1b9e8-6126-47fa-be41-60a8062ef808",
   "metadata": {},
   "source": [
    "4. Данные в JSON-файле(data.json)"
   ]
  },
  {
   "cell_type": "code",
   "execution_count": 256,
   "id": "96645cc1-2a82-49ec-9cec-4a4830588317",
   "metadata": {},
   "outputs": [
    {
     "name": "stdout",
     "output_type": "stream",
     "text": [
      "Проверка BST: True\n",
      "In-order обход: [3, 5, 7, 10, 12, 15, 20]\n"
     ]
    }
   ],
   "source": [
    "import json\n",
    "import os\n",
    "file_path = r'C:\\Рабочий стол\\лаба4_\\data.json'  \n",
    "class Node:\n",
    "    def __init__(self, key):\n",
    "        self.left = None\n",
    "        self.right = None\n",
    "        self.val = key\n",
    "def insert(root, key):\n",
    "    if root is None:\n",
    "        return Node(key)\n",
    "    if key < root.val:\n",
    "        root.left = insert(root.left, key)\n",
    "    else:\n",
    "        root.right = insert(root.right, key)\n",
    "    return root\n",
    "def is_bst(root, min_val=None, max_val=None):\n",
    "    if root is None:\n",
    "        return True\n",
    "    if (min_val is not None and root.val <= min_val) or \\\n",
    "       (max_val is not None and root.val >= max_val):\n",
    "        return False\n",
    "    return (is_bst(root.left, min_val, root.val) and \n",
    "            is_bst(root.right, root.val, max_val))\n",
    "def inorder_traversal(root):\n",
    "    return inorder_traversal(root.left) + [root.val] + inorder_traversal(root.right) if root else []\n",
    "def create_sample_json(file_path):\n",
    "    sample_data = [10, 5, 15, 3, 7, 12, 20]\n",
    "    with open(file_path, 'w') as f:\n",
    "        json.dump(sample_data, f)\n",
    "    print(f\"Создан образец файла {file_path}\")\n",
    "def build_bst_from_json(file_path):\n",
    "    try:\n",
    "        with open(file_path, 'r') as file:\n",
    "            data = json.load(file)       \n",
    "        root = None\n",
    "        for num in data:\n",
    "            if not isinstance(num, (int, float)):\n",
    "                raise ValueError(f\"Ожидалось число, получено {type(num)}: {num}\")\n",
    "            root = insert(root, num)\n",
    "        return root   \n",
    "    except FileNotFoundError:\n",
    "        print(f\"Файл {file_path} не найден. Создаю образец...\")\n",
    "        create_sample_json(file_path)\n",
    "        return build_bst_from_json(file_path)  #рекурсивный вызов после создания файла\n",
    "    except json.JSONDecodeError:\n",
    "        print(f\"Ошибка: файл {file_path} содержит некорректный JSON\")\n",
    "        return None\n",
    "file_path = 'data.json'\n",
    "bst = build_bst_from_json(file_path)\n",
    "if bst:\n",
    "    print(\"Проверка BST:\", is_bst(bst))\n",
    "    print(\"In-order обход:\", inorder_traversal(bst))"
   ]
  },
  {
   "cell_type": "markdown",
   "id": "8ce51af0-9b26-4fc7-adee-06299cd93b3a",
   "metadata": {},
   "source": [
    "## Задание 7.4. Перегрузка операции принадлежности in"
   ]
  },
  {
   "cell_type": "markdown",
   "id": "c016a76a-ec9c-4434-b125-808f803f4664",
   "metadata": {},
   "source": [
    "Переопределите классы BinaryTree, BinaryNode, EmptyNode за счет определения нового метода __contains__(self, value) для перегрузки операции принадлежности in. Рекомендации по выполнению представлены в лекции к теме Бинарное дерево поиска. Реализация на основе ООП."
   ]
  },
  {
   "cell_type": "code",
   "execution_count": 260,
   "id": "ad823784-1d1c-42cd-913d-5c5bfdb58915",
   "metadata": {},
   "outputs": [],
   "source": [
    "class BinaryTree:\n",
    "    \"\"\"Бинарное дерево, управляющее корневым узлом\"\"\"\n",
    "    def __init__(self):\n",
    "        self.root = EmptyNode()  # пустое дерево\n",
    "        \n",
    "    def __repr__(self):\n",
    "        \"\"\"Строковое представление дерева\"\"\"\n",
    "        return repr(self.root)\n",
    "        \n",
    "    def __contains__(self, value):\n",
    "        \"\"\"Проверка наличия значения в дереве (оператор in)\"\"\"\n",
    "        return value in self.root\n",
    "        \n",
    "    def insert(self, value):\n",
    "        \"\"\"Вставка значения в дерево\"\"\"\n",
    "        self.root = self.root.insert(value)  # делегируем вставку узлу\n",
    "\n",
    "    def build_from_list(self, data):\n",
    "        \"\"\"Построение дерева из списка значений\"\"\"\n",
    "        for value in data:\n",
    "            self.insert(value)\n",
    "        return self"
   ]
  },
  {
   "cell_type": "code",
   "execution_count": 262,
   "id": "2f70ad32-4dd8-4a61-b0d5-bcdd871d5662",
   "metadata": {},
   "outputs": [],
   "source": [
    "class BinaryNode:\n",
    "    \"\"\"Узел дерева\"\"\"\n",
    "    def __init__(self, left, value, right):\n",
    "        self.left = left    # левый узел (BinaryNode или EmptyNode)\n",
    "        self.value = value  # значение узла\n",
    "        self.right = right  # правый узел (BinaryNode или EmptyNode)\n",
    "        \n",
    "    def __repr__(self):\n",
    "        return f'({self.left}, {self.value}, {self.right})'\n",
    "    \n",
    "    def __contains__(self, value):\n",
    "        \"\"\"Проверка наличия значения в дереве\"\"\"\n",
    "        if value == self.value:\n",
    "            return True\n",
    "        elif value < self.value:\n",
    "            return value in self.left\n",
    "        else:\n",
    "            return value in self.right\n",
    "    \n",
    "    def insert(self, value):\n",
    "        \"\"\"Вставка значения в узел\"\"\"\n",
    "        if value < self.value:\n",
    "            self.left = self.left.insert(value)\n",
    "        else:\n",
    "            self.right = self.right.insert(value)\n",
    "        return self"
   ]
  },
  {
   "cell_type": "code",
   "execution_count": 264,
   "id": "127a537b-5d38-44da-89ed-c0af37cb8389",
   "metadata": {},
   "outputs": [],
   "source": [
    "class EmptyNode:\n",
    "    \"\"\"Пустой узел\"\"\"\n",
    "    def __repr__(self):\n",
    "        \"\"\"Вывод пустого узла\"\"\"\n",
    "        return '*'\n",
    "    \n",
    "    def __contains__(self, value):\n",
    "        \"\"\"В пустом узле ничего нет - всегда False\"\"\"\n",
    "        return False\n",
    "    \n",
    "    def insert(self, value):\n",
    "        \"\"\"Создаёт новый узел при вставке значения\"\"\"\n",
    "        return BinaryNode(self, value, self)"
   ]
  },
  {
   "cell_type": "markdown",
   "id": "185784c6-6d64-4e31-967d-f55f767a09de",
   "metadata": {},
   "source": [
    " Протестируйте корректность выполнения операции in на трех примерах."
   ]
  },
  {
   "cell_type": "code",
   "execution_count": 267,
   "id": "02c86e91-70af-45f0-94a7-8778c88ce186",
   "metadata": {},
   "outputs": [
    {
     "name": "stdout",
     "output_type": "stream",
     "text": [
      "(*, 5, *)\n",
      "((*, 1, *), 5, *)\n",
      "((*, 1, *), 5, (*, 10, *))\n",
      "((*, 1, (*, 3, *)), 5, (*, 10, *))\n",
      "((*, 1, (*, 3, (*, 4, *))), 5, (*, 10, *))\n",
      "(0, False) (1, True) (2, False) (3, True) (4, True) (5, True) (6, False) (7, False) (8, False) (9, False) "
     ]
    }
   ],
   "source": [
    "source_data = [5,1,10,3,4]\n",
    "tree = BinaryTree()\n",
    "for i in source_data:\n",
    " tree.insert(i)\n",
    " print(tree)\n",
    "for i in range(10):\n",
    " print((i, i in tree), end = ' ')"
   ]
  },
  {
   "cell_type": "code",
   "execution_count": 269,
   "id": "88ee9ea3-251e-44c5-91c5-e88e6f59f6d6",
   "metadata": {},
   "outputs": [
    {
     "name": "stdout",
     "output_type": "stream",
     "text": [
      "True\n",
      "False\n"
     ]
    }
   ],
   "source": [
    "tree = BinaryTree()#c числами\n",
    "data = [5, 3, 7, 2, 4]\n",
    "for num in data:\n",
    "    tree.insert(num)\n",
    "\n",
    "print(3 in tree) \n",
    "print(6 in tree)"
   ]
  },
  {
   "cell_type": "code",
   "execution_count": 271,
   "id": "d72bf8bf-fc06-4058-8a3e-00c2d860a51c",
   "metadata": {},
   "outputs": [
    {
     "name": "stdout",
     "output_type": "stream",
     "text": [
      "True\n",
      "False\n"
     ]
    }
   ],
   "source": [
    "tree = BinaryTree()#c 1 цифрами\n",
    "tree.insert(10)\n",
    "\n",
    "print(10 in tree)  \n",
    "print(5 in tree)"
   ]
  },
  {
   "cell_type": "code",
   "execution_count": 273,
   "id": "1bbbd728-45af-4865-b7ca-fe4e4edb94da",
   "metadata": {},
   "outputs": [
    {
     "name": "stdout",
     "output_type": "stream",
     "text": [
      "False\n"
     ]
    }
   ],
   "source": [
    "tree = BinaryTree()#пустое\n",
    "\n",
    "print(5 in tree)"
   ]
  },
  {
   "cell_type": "markdown",
   "id": "b8fa0b33-4aa0-4d96-be5c-944f1d5005af",
   "metadata": {},
   "source": [
    "## Задание 7.5. Перегрузка встроенной функции len"
   ]
  },
  {
   "cell_type": "markdown",
   "id": "42d92b1f-2d0b-4f46-a911-45a1734902ea",
   "metadata": {},
   "source": [
    "Переопределите классы BinaryTree, BinaryNode, EmptyNode за счет определения нового метода __len__(self) для перегрузки встроенной функции len, которая возвращает количество вершин в бинарном дереве поиска. Рекомендации по выполнению представлены в лекции к теме Бинарное дерево поиска. Реализация на основе ООП."
   ]
  },
  {
   "cell_type": "code",
   "execution_count": 277,
   "id": "356526a7-053b-438b-b33d-d3fedbd6898d",
   "metadata": {},
   "outputs": [],
   "source": [
    "class BinaryTree:\n",
    "    \"\"\"Бинарное дерево, управляющее корневым узлом\"\"\"\n",
    "    def __init__(self):\n",
    "        self.root = EmptyNode()  # пустое дерево\n",
    "        \n",
    "    def __repr__(self):\n",
    "        \"\"\"Строковое представление дерева\"\"\"\n",
    "        return repr(self.root)\n",
    "        \n",
    "    def __contains__(self, value):\n",
    "        \"\"\"Проверка наличия значения в дереве (оператор in)\"\"\"\n",
    "        return value in self.root\n",
    "        \n",
    "    def __len__(self):\n",
    "        \"\"\"Возвращает количество узлов в дереве\"\"\"\n",
    "        return len(self.root)\n",
    "        \n",
    "    def insert(self, value):\n",
    "        \"\"\"Вставка значения в дерево\"\"\"\n",
    "        self.root = self.root.insert(value)  # делегируем вставку узлу\n",
    "\n",
    "    def build_from_list(self, data):\n",
    "        \"\"\"Построение дерева из списка значений\"\"\"\n",
    "        for value in data:\n",
    "            self.insert(value)\n",
    "        return self"
   ]
  },
  {
   "cell_type": "code",
   "execution_count": 279,
   "id": "c366c592-c5aa-4fb8-93ce-7347789c5f0f",
   "metadata": {},
   "outputs": [],
   "source": [
    "class BinaryNode:\n",
    "    \"\"\"Узел дерева\"\"\"\n",
    "    def __init__(self, left, value, right):\n",
    "        self.left = left    # левый узел (BinaryNode или EmptyNode)\n",
    "        self.value = value  # значение узла\n",
    "        self.right = right  # правый узел (BinaryNode или EmptyNode)\n",
    "        \n",
    "    def __repr__(self):\n",
    "        return f'({self.left}, {self.value}, {self.right})'\n",
    "    \n",
    "    def __contains__(self, value):\n",
    "        \"\"\"Проверка наличия значения в дереве\"\"\"\n",
    "        if value == self.value:\n",
    "            return True\n",
    "        elif value < self.value:\n",
    "            return value in self.left\n",
    "        else:\n",
    "            return value in self.right\n",
    "    \n",
    "    def __len__(self):\n",
    "        \"\"\"Возвращает количество узлов: 1 (текущий) + узлы слева + узлы справа\"\"\"\n",
    "        return 1 + len(self.left) + len(self.right)\n",
    "    \n",
    "    def insert(self, value):\n",
    "        \"\"\"Вставка значения в узел\"\"\"\n",
    "        if value < self.value:\n",
    "            self.left = self.left.insert(value)\n",
    "        else:\n",
    "            self.right = self.right.insert(value)\n",
    "        return self"
   ]
  },
  {
   "cell_type": "code",
   "execution_count": 281,
   "id": "364e7aae-a13f-43a0-87ad-cc5901ae0771",
   "metadata": {},
   "outputs": [],
   "source": [
    "class EmptyNode:\n",
    "    \"\"\"Пустой узел\"\"\"\n",
    "    def __repr__(self):\n",
    "        \"\"\"Вывод пустого узла\"\"\"\n",
    "        return '*'\n",
    "    \n",
    "    def __contains__(self, value):\n",
    "        \"\"\"В пустом узле ничего нет - всегда False\"\"\"\n",
    "        return False\n",
    "    \n",
    "    def __len__(self):\n",
    "        \"\"\"Пустой узел не содержит вершин\"\"\"\n",
    "        return 0\n",
    "    \n",
    "    def insert(self, value):\n",
    "        \"\"\"Создаёт новый узел при вставке значения\"\"\"\n",
    "        return BinaryNode(self, value, self)"
   ]
  },
  {
   "cell_type": "code",
   "execution_count": 283,
   "id": "fad6db76-a856-48b2-9d49-5c4d1140b594",
   "metadata": {},
   "outputs": [
    {
     "data": {
      "text/plain": [
       "5"
      ]
     },
     "execution_count": 283,
     "metadata": {},
     "output_type": "execute_result"
    }
   ],
   "source": [
    "tree = BinaryTree()\n",
    "for i in source_data:\n",
    " tree.insert(i)\n",
    "len(tree)"
   ]
  },
  {
   "cell_type": "code",
   "execution_count": 285,
   "id": "ef979153-000f-4075-8636-aadcc0960453",
   "metadata": {},
   "outputs": [
    {
     "name": "stdout",
     "output_type": "stream",
     "text": [
      "0\n"
     ]
    }
   ],
   "source": [
    "tree = BinaryTree()#пустое\n",
    "print(len(tree))"
   ]
  },
  {
   "cell_type": "code",
   "execution_count": 287,
   "id": "0fe395f2-d5b1-49fd-93d0-f79f3a80b715",
   "metadata": {},
   "outputs": [
    {
     "name": "stdout",
     "output_type": "stream",
     "text": [
      "1\n"
     ]
    }
   ],
   "source": [
    "tree.insert(10)#c 1 числом\n",
    "print(len(tree))"
   ]
  },
  {
   "cell_type": "code",
   "execution_count": 289,
   "id": "d9b5c39a-c0d1-41db-bce0-3b244f2f70e9",
   "metadata": {},
   "outputs": [
    {
     "name": "stdout",
     "output_type": "stream",
     "text": [
      "5\n"
     ]
    }
   ],
   "source": [
    "tree = BinaryTree()#c несколько элементов\n",
    "values = [5, 3, 7, 2, 4]\n",
    "for v in values:\n",
    "    tree.insert(v)\n",
    "print(len(tree))"
   ]
  }
 ],
 "metadata": {
  "kernelspec": {
   "display_name": "Python [conda env:base] *",
   "language": "python",
   "name": "conda-base-py"
  },
  "language_info": {
   "codemirror_mode": {
    "name": "ipython",
    "version": 3
   },
   "file_extension": ".py",
   "mimetype": "text/x-python",
   "name": "python",
   "nbconvert_exporter": "python",
   "pygments_lexer": "ipython3",
   "version": "3.12.3"
  }
 },
 "nbformat": 4,
 "nbformat_minor": 5
}

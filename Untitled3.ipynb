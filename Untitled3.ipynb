{
 "cells": [
  {
   "cell_type": "markdown",
   "id": "eceab66f-5d04-4ac9-a4cc-ae700a281534",
   "metadata": {},
   "source": [
    "## Лабораторная работа 7. Построение бинарного дерева поиска. Подсчет количества элементов в дереве"
   ]
  },
  {
   "cell_type": "markdown",
   "id": "5b9ce9d6-0bd4-41fb-b914-268cb1f42817",
   "metadata": {},
   "source": [
    "Орешко Алёна Владимировна, 07.05.2025"
   ]
  },
  {
   "cell_type": "markdown",
   "id": "cf7c037b-0fae-4c53-aca1-05edc932de64",
   "metadata": {},
   "source": [
    "## Задание 7.1 Определение классов"
   ]
  },
  {
   "cell_type": "markdown",
   "id": "0a899686-f6e9-4779-b4b9-be953d56bd92",
   "metadata": {},
   "source": [
    "Бинарное дерево поиска будем описывать с помощью трех классов: BinaryTree ,\n",
    "BinaryNode , EmptyNode , связанных друг с другом на основе композиции.\n",
    "Проектирование классов представлено в лекции к теме Бинарное дерево поиска.\n",
    "Реализация на основе ООП.\n",
    "\n",
    "Напишите базовое определение классов BinaryTree , BinaryNode , EmptyNode\n",
    "на основе лекционных материалов. Базовое определение класса BinaryTree содержит метод инициализации\n",
    "__init__(self) , метод строкового представления __repr__(self) , метод\n",
    "вставки элемента в дерево insert(self, value) .\n",
    "Базовое определение класса BinaryNode содержит метод инициализации\n",
    "__init__(self) и метод строкового представления __repr__(self) .\n",
    "Базовое определение класса EmptyNode содержит метод строкового\n",
    "представления __repr__(self) и метод вставки элемента в дерево insert(self,\n",
    "value) .\n",
    "\n",
    "Напишите комментарии для каждой строки кода в определении классов\n",
    "BinaryTree , BinaryNode , EmptyNode ."
   ]
  },
  {
   "cell_type": "code",
   "execution_count": 178,
   "id": "0a05c696-d32a-4e87-9373-da3cee1f43ac",
   "metadata": {},
   "outputs": [],
   "source": [
    "class BinaryTree:\n",
    "    \"\"\"Бинарное дерево, управляющее корневым узлом\"\"\"\n",
    "    def __init__(self):\n",
    "        self.root = EmptyNode()  # пустое дерево\n",
    "        \n",
    "    def __repr__(self):\n",
    "        \"\"\"Строковое представление дерева\"\"\"\n",
    "        return repr(self.root)\n",
    "        \n",
    "    def insert(self, value):\n",
    "        \"\"\"Вставка значения в дерево\"\"\"\n",
    "        self.root = self.root.insert(value)  # делегируем вставку узлу\n",
    "\n",
    "    def build_from_list(self, data):\n",
    "        \"\"\"Построение дерева из списка значений\"\"\"\n",
    "        for value in data:\n",
    "            self.insert(value)\n",
    "        return self"
   ]
  },
  {
   "cell_type": "code",
   "execution_count": 180,
   "id": "b6dfa3ac-f3c5-4173-b682-06e5fd5d8da2",
   "metadata": {},
   "outputs": [],
   "source": [
    "class BinaryNode:\n",
    "    \"\"\"Узел дерева\"\"\"\n",
    "    def __init__(self, left, value, right):\n",
    "        self.left = left    # левый узел (BinaryNode или EmptyNode)\n",
    "        self.value = value  # значение узла\n",
    "        self.right = right  # правый узел (BinaryNode или EmptyNode)\n",
    "        \n",
    "    def __repr__(self):\n",
    "        \"\"\"Вывод узла в виде (левый, значение, правый)\"\"\"\n",
    "        return f'({self.left}, {self.value}, {self.right})'"
   ]
  },
  {
   "cell_type": "code",
   "execution_count": 182,
   "id": "ddfa96e2-3b06-4606-8d0f-1fab0d056a42",
   "metadata": {},
   "outputs": [],
   "source": [
    "class EmptyNode:\n",
    "    \"\"\"Пустой узел\"\"\"\n",
    "    def __repr__(self):\n",
    "        \"\"\"Вывод пустого узла\"\"\"\n",
    "        return '*'\n",
    "    \n",
    "    def insert(self, value):\n",
    "        \"\"\"Создаёт новый узел при вставке значения\"\"\"\n",
    "        return BinaryNode(self, value, self)"
   ]
  },
  {
   "cell_type": "markdown",
   "id": "4dbaddc0-1918-4705-9b93-675d43e8c23b",
   "metadata": {},
   "source": [
    "## Задание 7.2. Метод вставки элемента в бинарное дерево поиска"
   ]
  },
  {
   "cell_type": "markdown",
   "id": "05b5cf65-5215-4793-a637-4c94d568b5a4",
   "metadata": {},
   "source": [
    "Переопределите класс BinaryNode за счет определения метода вставки\n",
    "insert(self, value) . Рекомендации по выполнению представлены в лекции к\n",
    "теме Бинарное дерево поиска. Реализация на основе ООП."
   ]
  },
  {
   "cell_type": "code",
   "execution_count": 186,
   "id": "ca40bbe2-c370-4faf-83e2-3483cf1270e0",
   "metadata": {},
   "outputs": [],
   "source": [
    "class BinaryNode:\n",
    "    \"\"\"Узел бинарного дерева поиска (BST)\"\"\"\n",
    "    def __init__(self, left, value, right):\n",
    "        self.left = left    # левый потомок (BinaryNode или EmptyNode)\n",
    "        self.value = value  # значение узла\n",
    "        self.right = right  # правый потомок (BinaryNode или EmptyNode)\n",
    "        \n",
    "    def __repr__(self):\n",
    "        return f'({self.left}, {self.value}, {self.right})'\n",
    "    \n",
    "    def insert(self, value):\n",
    "        \"\"\"Рекурсивная вставка значения согласно правилам BST\"\"\"\n",
    "        if value < self.value:\n",
    "            self.left = self.left.insert(value)  # влево, если значение меньше\n",
    "        else:\n",
    "            self.right = self.right.insert(value) # вправо, если >=\n",
    "        return self"
   ]
  },
  {
   "cell_type": "markdown",
   "id": "b42b3956-79e1-45df-a678-3e00fc4b8296",
   "metadata": {},
   "source": [
    "Приведите 3 примера построения бинарного дерева поиска на\n",
    "основе итерируемых объектов различных типов (например, str , range , list )."
   ]
  },
  {
   "cell_type": "markdown",
   "id": "c4f55695-6605-481c-9f1c-0267c27a1181",
   "metadata": {},
   "source": [
    "1. Пример 1: Числа (тип int):"
   ]
  },
  {
   "cell_type": "code",
   "execution_count": 190,
   "id": "46ddc9d7-b1e9-4a68-8a3a-2d85cf4752be",
   "metadata": {},
   "outputs": [
    {
     "name": "stdout",
     "output_type": "stream",
     "text": [
      "(((*, 2, *), 3, (*, 4, *)), 5, ((*, 6, *), 7, *))\n"
     ]
    }
   ],
   "source": [
    "nums = [5, 3, 7, 2, 4, 6]\n",
    "tree = BinaryTree()\n",
    "for num in nums:\n",
    "    tree.insert(num)\n",
    "\n",
    "print(tree)"
   ]
  },
  {
   "cell_type": "markdown",
   "id": "21dbbb64-0bc5-4d80-aac7-de0622eaab2e",
   "metadata": {},
   "source": [
    "2. Пример 2: Объекты range"
   ]
  },
  {
   "cell_type": "code",
   "execution_count": 193,
   "id": "bffbfd72-fdcc-403f-908e-1b1bbc5c7aac",
   "metadata": {},
   "outputs": [
    {
     "name": "stdout",
     "output_type": "stream",
     "text": [
      "(*, 1, (*, 2, (*, 3, (*, 4, (*, 5, (*, 6, *))))))\n"
     ]
    }
   ],
   "source": [
    "tree = BinaryTree()\n",
    "for i in range(1, 7):\n",
    "    tree.insert(i)\n",
    "\n",
    "print(tree) "
   ]
  },
  {
   "cell_type": "markdown",
   "id": "3104aefb-2abc-4950-9af6-0a0ade8b241e",
   "metadata": {},
   "source": [
    "3. Пример 3: Строки (тип str)"
   ]
  },
  {
   "cell_type": "code",
   "execution_count": 196,
   "id": "633fb1a4-e428-4645-bdd3-3e94d743879a",
   "metadata": {},
   "outputs": [
    {
     "name": "stdout",
     "output_type": "stream",
     "text": [
      "(*, a, (((*, e, *), l, *), p, (*, p, *)))\n"
     ]
    }
   ],
   "source": [
    "tree = BinaryTree()\n",
    "for char in \"apple\":\n",
    "    tree.insert(char)\n",
    "\n",
    "print(tree)"
   ]
  },
  {
   "cell_type": "markdown",
   "id": "56d33a50-bab8-4d0c-b426-2d4c8332a919",
   "metadata": {},
   "source": [
    "Протестируйте корректность построения бинарного дерева поиска на основе\n",
    "вставки в дерево элементов некоторого итерируемого объекта. При этом важно,\n",
    "чтобы для элементов итерируемого объекта были определены операции\n",
    "сравнения. "
   ]
  },
  {
   "cell_type": "code",
   "execution_count": 199,
   "id": "b7d44f41-74ef-437b-9d72-517b191c65d7",
   "metadata": {},
   "outputs": [
    {
     "name": "stdout",
     "output_type": "stream",
     "text": [
      "(*, 7, (*, 8, *))\n"
     ]
    }
   ],
   "source": [
    "#Тест 1: Вставка дубликатов\n",
    "tree = BinaryTree()\n",
    "tree.insert(7)\n",
    "tree.insert(8)\n",
    "print(tree) "
   ]
  },
  {
   "cell_type": "code",
   "execution_count": 201,
   "id": "82da6c93-056e-4a70-8418-93eedacfab41",
   "metadata": {},
   "outputs": [
    {
     "name": "stdout",
     "output_type": "stream",
     "text": [
      "(*, addje, (*, slfkvdsa, *))\n"
     ]
    }
   ],
   "source": [
    "#Тест 2: Сравнение строк\n",
    "tree = BinaryTree()#вставка по длине\n",
    "tree.insert(\"addje\")\n",
    "tree.insert(\"slfkvdsa\")\n",
    "print(tree)"
   ]
  },
  {
   "cell_type": "markdown",
   "id": "1631fac3-b6f5-46df-af1d-ec0c08af7fec",
   "metadata": {},
   "source": [
    "## Задание 7.3 Построение бинарного дерева поиска"
   ]
  },
  {
   "cell_type": "markdown",
   "id": "5da7f4c9-00bd-475f-a474-b37896febe6e",
   "metadata": {},
   "source": [
    "Прочитайте числовые данные, записанные в файлы, и постройте на основании этих данных бинарные деревья поиска.\n",
    "\n",
    "Рассмотрите четыре варианта хранения данных в файлах:\n",
    "\n",
    "1.числовые данные хранятся в текстовом файле и записаны в столбец;\n",
    "\n",
    "2.числовые данные хранятся в текстовом файле, записаны в строки, разделены пробелами, в каждой строке расположено одинаковое количество числовых значений;\n",
    "\n",
    "3.числовые данные хранятся в текстовом файле, записаны в строки, разделены пробелами, в каждой строке расположено различное количество числовых значений;\n",
    "\n",
    "4.числовые данные хранятся в файле формата json.\n",
    "\n",
    "Рекомендации по выполнению:\n",
    "\n",
    "cтроковый метод split разбирает строку на список подстрок по разделителю;\n",
    "строковые объекты нужно преобразовывать в числовые объекты перед их записью в бинарное дерево поиска;\n",
    "функция loadtxt из расширения numpy читает числовые даннные из текстового файла без предварительного создания файлового объекта; в каждой строке файла должно быть расположено одинаковое количество числовых значений;\n",
    "для работы с файлами в формате json используйте, например, функции load и values из модуля json. Для используемых функций модуля сформулируйте спецификации."
   ]
  },
  {
   "cell_type": "code",
   "execution_count": 205,
   "id": "dcc59f85-ba20-4289-8803-eea8f8604edd",
   "metadata": {},
   "outputs": [],
   "source": [
    "import json\n",
    "import numpy as np\n",
    "\n",
    "def read_column_file(filename):\n",
    "    \"\"\"Чтение данных из файла с числами в столбец\"\"\"\n",
    "    data = []\n",
    "    try:\n",
    "        with open(filename, 'r') as file:\n",
    "            for line in file:\n",
    "                stripped = line.strip()\n",
    "                if stripped:\n",
    "                    try:\n",
    "                        data.append(float(stripped))\n",
    "                    except ValueError:\n",
    "                        continue\n",
    "    except FileNotFoundError:\n",
    "        print(f\"Файл {filename} не найден.\")\n",
    "    return data\n",
    "\n",
    "def read_grid_file(filename):\n",
    "    \"\"\"Чтение данных из файла с сеткой чисел (одинаковое количество в строках)\"\"\"\n",
    "    try:\n",
    "        return np.loadtxt(filename).flatten().tolist()\n",
    "    except Exception as e:\n",
    "        print(f\"Ошибка: {e}\")\n",
    "        return []\n",
    "\n",
    "def read_arbitrary_file(filename):\n",
    "    \"\"\"Чтение данных из файла с произвольными строками\"\"\"\n",
    "    data = []\n",
    "    try:\n",
    "        with open(filename, 'r') as file:\n",
    "            for line in file:\n",
    "                try:\n",
    "                    nums = list(map(float, line.strip().split()))\n",
    "                    data.extend(nums)\n",
    "                except ValueError:\n",
    "                    continue\n",
    "    except FileNotFoundError:\n",
    "        print(f\"Файл {filename} не найден.\")\n",
    "    return data\n",
    "\n",
    "def read_json_file(filename):\n",
    "    \"\"\"Чтение данных из JSON-файла\"\"\"\n",
    "    try:\n",
    "        with open(filename, 'r') as file:\n",
    "            data = json.load(file)\n",
    "        flattened = []\n",
    "        def flatten(lst):\n",
    "            for item in lst:\n",
    "                if isinstance(item, list):\n",
    "                    flatten(item)\n",
    "                else:\n",
    "                    flattened.append(float(item))\n",
    "        flatten(data)\n",
    "        return flattened\n",
    "    except Exception as e:\n",
    "        print(f\"Ошибка: {e}\")\n",
    "        return []"
   ]
  },
  {
   "cell_type": "markdown",
   "id": "a8d095da-afec-4b6d-8442-adddfc0aba0a",
   "metadata": {},
   "source": [
    "1. Пример 1. Файл column.txt (Столбец чисел)"
   ]
  },
  {
   "cell_type": "code",
   "execution_count": 208,
   "id": "d630a46e-6083-4d8c-975b-e35ff337fed7",
   "metadata": {},
   "outputs": [
    {
     "name": "stdout",
     "output_type": "stream",
     "text": [
      "Файл column.txt не найден.\n",
      "*\n"
     ]
    }
   ],
   "source": [
    "tree = BinaryTree()\n",
    "data = read_column_file(\"column.txt\")\n",
    "tree.build_from_list(data)\n",
    "print(tree)"
   ]
  },
  {
   "cell_type": "markdown",
   "id": "75fcc222-0d6e-47cb-85fd-d2968a35a3d9",
   "metadata": {},
   "source": [
    "2. Пример 2. Файл grid.txt (Сетка чисел)"
   ]
  },
  {
   "cell_type": "code",
   "execution_count": 211,
   "id": "cbfdb28d-ed9e-4265-a5c5-c62b6cf0ddeb",
   "metadata": {},
   "outputs": [
    {
     "name": "stdout",
     "output_type": "stream",
     "text": [
      "Ошибка: grid.txt not found.\n",
      "*\n"
     ]
    }
   ],
   "source": [
    "tree = BinaryTree()\n",
    "data = read_grid_file(\"grid.txt\") \n",
    "tree.build_from_list(data)\n",
    "print(tree)"
   ]
  },
  {
   "cell_type": "markdown",
   "id": "2dfa9194-3c5e-4ea9-b1a7-c2b59ea4b8d5",
   "metadata": {},
   "source": [
    "3. Пример 3. JSON-файл data.json"
   ]
  },
  {
   "cell_type": "code",
   "execution_count": 214,
   "id": "4a6f991d-1230-4b9b-b0a1-d8cc1e215196",
   "metadata": {},
   "outputs": [
    {
     "name": "stdout",
     "output_type": "stream",
     "text": [
      "(((*, 3.0, *), 5.0, (*, 7.0, *)), 10.0, ((*, 12.0, *), 15.0, (*, 20.0, *)))\n"
     ]
    }
   ],
   "source": [
    "tree = BinaryTree()\n",
    "data = read_json_file(\"data.json\")\n",
    "tree.build_from_list(data)\n",
    "print(tree)"
   ]
  },
  {
   "cell_type": "markdown",
   "id": "d8279ff5-c362-4ade-b10c-a36422f7c6ec",
   "metadata": {},
   "source": [
    "4. Пример 4. Файл с произвольными строками arbitrary.txt (Произвольные строки)"
   ]
  },
  {
   "cell_type": "code",
   "execution_count": 217,
   "id": "4db5a5ee-93c7-42eb-a53a-bdc918f89fcb",
   "metadata": {},
   "outputs": [
    {
     "name": "stdout",
     "output_type": "stream",
     "text": [
      "Файл arbitrary.txt не найден.\n",
      "*\n"
     ]
    }
   ],
   "source": [
    "tree = BinaryTree()\n",
    "data = read_arbitrary_file(\"arbitrary.txt\")  \n",
    "tree.build_from_list(data)\n",
    "print(tree)"
   ]
  },
  {
   "cell_type": "markdown",
   "id": "f8684750-4c09-48fb-a996-3fb44bd2a1e4",
   "metadata": {},
   "source": [
    "Спецификации функций для работы с JSON\n",
    "\n",
    "json.load(file)\n",
    "Назначение: Чтение JSON-данных из файла.\n",
    "\n",
    "Параметры:\n",
    "\n",
    "- `file`: файловый объект, открытый в режиме чтения.\n",
    "Возвращает: структуру данных Python (списки, словари и т.д.).\n",
    "\n",
    "Рекурсивная функция _flatten\n",
    "Назначение: Преобразование вложенных списков в плоский список чисел.\n",
    "\n",
    "Параметры:\n",
    "\n",
    "- `lst`: вложенная структура (списки, числа).\n",
    "Возвращает: одномерный список чисел."
   ]
  },
  {
   "cell_type": "markdown",
   "id": "8ce51af0-9b26-4fc7-adee-06299cd93b3a",
   "metadata": {},
   "source": [
    "## Задание 7.4. Перегрузка операции принадлежности in"
   ]
  },
  {
   "cell_type": "markdown",
   "id": "c016a76a-ec9c-4434-b125-808f803f4664",
   "metadata": {},
   "source": [
    "Переопределите классы BinaryTree, BinaryNode, EmptyNode за счет определения нового метода __contains__(self, value) для перегрузки операции принадлежности in. Рекомендации по выполнению представлены в лекции к теме Бинарное дерево поиска. Реализация на основе ООП."
   ]
  },
  {
   "cell_type": "code",
   "execution_count": 222,
   "id": "52d377ef-ae91-4a28-8b0d-6e3f3b90aac6",
   "metadata": {},
   "outputs": [],
   "source": [
    "class EmptyNode:\n",
    "    \"\"\"Пустой узел\"\"\"\n",
    "    def __repr__(self):\n",
    "        return '*'\n",
    "    \n",
    "    def insert(self, value):\n",
    "        return BinaryNode(EmptyNode(), value, EmptyNode())\n",
    "    \n",
    "    def __contains__(self, value):\n",
    "        \"\"\"Пустой узел никогда не содержит значений\"\"\"\n",
    "        return False\n",
    "\n",
    "class BinaryNode:\n",
    "    \"\"\"Узел бинарного дерева поиска\"\"\"\n",
    "    def __init__(self, left, value, right):\n",
    "        self.left = left    \n",
    "        self.value = value  \n",
    "        self.right = right  \n",
    "        \n",
    "    def __repr__(self):\n",
    "        return f'({self.left}, {self.value}, {self.right})'\n",
    "    \n",
    "    def insert(self, value):\n",
    "        if value < self.value:\n",
    "            self.left = self.left.insert(value)\n",
    "        else:\n",
    "            self.right = self.right.insert(value)\n",
    "        return self\n",
    "    \n",
    "    def __contains__(self, value):\n",
    "        \"\"\"Проверка наличия значения в узле или его потомках\"\"\"\n",
    "        if value == self.value:\n",
    "            return True\n",
    "        elif value < self.value:\n",
    "            return value in self.left  # рекурсивный поиск в левом поддереве\n",
    "        else:\n",
    "            return value in self.right # рекурсивный поиск в правом поддереве\n",
    "\n",
    "class BinaryTree:\n",
    "    \"\"\"Бинарное дерево поиска\"\"\"\n",
    "    def __init__(self):\n",
    "        self.root = EmptyNode()\n",
    "        \n",
    "    def __repr__(self):\n",
    "        return repr(self.root)\n",
    "    \n",
    "    def insert(self, value):\n",
    "        self.root = self.root.insert(value)\n",
    "    \n",
    "    def __contains__(self, value):\n",
    "        \"\"\"Проверка наличия значения в дереве\"\"\"\n",
    "        return value in self.root"
   ]
  },
  {
   "cell_type": "markdown",
   "id": "185784c6-6d64-4e31-967d-f55f767a09de",
   "metadata": {},
   "source": [
    " Протестируйте корректность выполнения операции in на трех примерах."
   ]
  },
  {
   "cell_type": "code",
   "execution_count": 225,
   "id": "02c86e91-70af-45f0-94a7-8778c88ce186",
   "metadata": {},
   "outputs": [
    {
     "name": "stdout",
     "output_type": "stream",
     "text": [
      "(*, 5, *)\n",
      "((*, 1, *), 5, *)\n",
      "((*, 1, *), 5, (*, 10, *))\n",
      "((*, 1, (*, 3, *)), 5, (*, 10, *))\n",
      "((*, 1, (*, 3, (*, 4, *))), 5, (*, 10, *))\n",
      "(0, False) (1, True) (2, False) (3, True) (4, True) (5, True) (6, False) (7, False) (8, False) (9, False) "
     ]
    }
   ],
   "source": [
    "source_data = [5,1,10,3,4]\n",
    "tree = BinaryTree()\n",
    "for i in source_data:\n",
    " tree.insert(i)\n",
    " print(tree)\n",
    "for i in range(10):\n",
    " print((i, i in tree), end = ' ')"
   ]
  },
  {
   "cell_type": "code",
   "execution_count": 227,
   "id": "88ee9ea3-251e-44c5-91c5-e88e6f59f6d6",
   "metadata": {},
   "outputs": [
    {
     "name": "stdout",
     "output_type": "stream",
     "text": [
      "True\n",
      "False\n"
     ]
    }
   ],
   "source": [
    "tree = BinaryTree()#c числами\n",
    "data = [5, 3, 7, 2, 4]\n",
    "for num in data:\n",
    "    tree.insert(num)\n",
    "\n",
    "print(3 in tree) \n",
    "print(6 in tree)"
   ]
  },
  {
   "cell_type": "code",
   "execution_count": 229,
   "id": "d72bf8bf-fc06-4058-8a3e-00c2d860a51c",
   "metadata": {},
   "outputs": [
    {
     "name": "stdout",
     "output_type": "stream",
     "text": [
      "True\n",
      "False\n"
     ]
    }
   ],
   "source": [
    "tree = BinaryTree()#c 1 цифрами\n",
    "tree.insert(10)\n",
    "\n",
    "print(10 in tree)  \n",
    "print(5 in tree)"
   ]
  },
  {
   "cell_type": "code",
   "execution_count": 231,
   "id": "1bbbd728-45af-4865-b7ca-fe4e4edb94da",
   "metadata": {},
   "outputs": [
    {
     "name": "stdout",
     "output_type": "stream",
     "text": [
      "False\n"
     ]
    }
   ],
   "source": [
    "tree = BinaryTree()#пустое\n",
    "\n",
    "print(5 in tree)"
   ]
  },
  {
   "cell_type": "markdown",
   "id": "b8fa0b33-4aa0-4d96-be5c-944f1d5005af",
   "metadata": {},
   "source": [
    "## Задание 7.5. Перегрузка встроенной функции len"
   ]
  },
  {
   "cell_type": "markdown",
   "id": "42d92b1f-2d0b-4f46-a911-45a1734902ea",
   "metadata": {},
   "source": [
    "Переопределите классы BinaryTree, BinaryNode, EmptyNode за счет определения нового метода __len__(self) для перегрузки встроенной функции len, которая возвращает количество вершин в бинарном дереве поиска. Рекомендации по выполнению представлены в лекции к теме Бинарное дерево поиска. Реализация на основе ООП."
   ]
  },
  {
   "cell_type": "code",
   "execution_count": 235,
   "id": "e050d38f-ecef-4211-9dd3-c18054ff5165",
   "metadata": {},
   "outputs": [],
   "source": [
    "class EmptyNode:\n",
    "    \"\"\"Пустой узел\"\"\"\n",
    "    def __repr__(self):\n",
    "        return '*'\n",
    "    \n",
    "    def insert(self, value):\n",
    "        return BinaryNode(EmptyNode(), value, EmptyNode())\n",
    "    \n",
    "    def __len__(self):\n",
    "        \"\"\"Пустой узел имеет длину 0\"\"\"\n",
    "        return 0\n",
    "\n",
    "class BinaryNode:\n",
    "    \"\"\"Узел бинарного дерева поиска\"\"\"\n",
    "    def __init__(self, left, value, right):\n",
    "        self.left = left    \n",
    "        self.value = value  \n",
    "        self.right = right  \n",
    "        \n",
    "    def __repr__(self):\n",
    "        return f'({self.left}, {self.value}, {self.right})'\n",
    "    \n",
    "    def insert(self, value):\n",
    "        if value < self.value:\n",
    "            self.left = self.left.insert(value)\n",
    "        else:\n",
    "            self.right = self.right.insert(value)\n",
    "        return self\n",
    "    \n",
    "    def __len__(self):\n",
    "        \"\"\"Количество узлов: текущий узел + левое поддерево + правое поддерево\"\"\"\n",
    "        return 1 + len(self.left) + len(self.right)\n",
    "\n",
    "class BinaryTree:\n",
    "    \"\"\"Бинарное дерево поиска\"\"\"\n",
    "    def __init__(self):\n",
    "        self.root = EmptyNode()\n",
    "        \n",
    "    def __repr__(self):\n",
    "        return repr(self.root)\n",
    "    \n",
    "    def insert(self, value):\n",
    "        self.root = self.root.insert(value)\n",
    "    \n",
    "    def __len__(self):\n",
    "        \"\"\"Общее количество узлов в дереве\"\"\"\n",
    "        return len(self.root)"
   ]
  },
  {
   "cell_type": "markdown",
   "id": "6917c4a3-0313-4fc5-8983-9637b7a435d0",
   "metadata": {},
   "source": [
    "Протестируйте корректность выполнения функции len на трех примерах."
   ]
  },
  {
   "cell_type": "code",
   "execution_count": 238,
   "id": "fad6db76-a856-48b2-9d49-5c4d1140b594",
   "metadata": {},
   "outputs": [
    {
     "data": {
      "text/plain": [
       "5"
      ]
     },
     "execution_count": 238,
     "metadata": {},
     "output_type": "execute_result"
    }
   ],
   "source": [
    "tree = BinaryTree()\n",
    "for i in source_data:\n",
    " tree.insert(i)\n",
    "len(tree)"
   ]
  },
  {
   "cell_type": "code",
   "execution_count": 240,
   "id": "ef979153-000f-4075-8636-aadcc0960453",
   "metadata": {},
   "outputs": [
    {
     "name": "stdout",
     "output_type": "stream",
     "text": [
      "0\n"
     ]
    }
   ],
   "source": [
    "tree = BinaryTree()#пустое\n",
    "print(len(tree))"
   ]
  },
  {
   "cell_type": "code",
   "execution_count": 242,
   "id": "0fe395f2-d5b1-49fd-93d0-f79f3a80b715",
   "metadata": {},
   "outputs": [
    {
     "name": "stdout",
     "output_type": "stream",
     "text": [
      "1\n"
     ]
    }
   ],
   "source": [
    "tree.insert(10)#c 1 числом\n",
    "print(len(tree))"
   ]
  },
  {
   "cell_type": "code",
   "execution_count": 244,
   "id": "d9b5c39a-c0d1-41db-bce0-3b244f2f70e9",
   "metadata": {},
   "outputs": [
    {
     "name": "stdout",
     "output_type": "stream",
     "text": [
      "5\n"
     ]
    }
   ],
   "source": [
    "tree = BinaryTree()#c несколько элементов\n",
    "values = [5, 3, 7, 2, 4]\n",
    "for v in values:\n",
    "    tree.insert(v)\n",
    "print(len(tree))"
   ]
  },
  {
   "cell_type": "code",
   "execution_count": null,
   "id": "09b56aa1-89e5-466c-bdc1-74fed01c84dd",
   "metadata": {},
   "outputs": [],
   "source": []
  }
 ],
 "metadata": {
  "kernelspec": {
   "display_name": "Python [conda env:base] *",
   "language": "python",
   "name": "conda-base-py"
  },
  "language_info": {
   "codemirror_mode": {
    "name": "ipython",
    "version": 3
   },
   "file_extension": ".py",
   "mimetype": "text/x-python",
   "name": "python",
   "nbconvert_exporter": "python",
   "pygments_lexer": "ipython3",
   "version": "3.12.3"
  }
 },
 "nbformat": 4,
 "nbformat_minor": 5
}

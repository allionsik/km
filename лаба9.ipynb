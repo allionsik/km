{
 "cells": [
  {
   "cell_type": "markdown",
   "id": "d0891f41-bc45-4678-9277-6a2b7406106a",
   "metadata": {},
   "source": [
    "## Лабораторная работа 9. Создание текстового файла большого объема с помощью генераторной функции"
   ]
  },
  {
   "cell_type": "markdown",
   "id": "147e3fe9-0b46-461e-bd11-b455f0e682f9",
   "metadata": {},
   "source": [
    "Орешко Алёна Владимировна, 20.05.2025"
   ]
  },
  {
   "cell_type": "markdown",
   "id": "0dd98b0e-476c-44b7-81c4-8cf15edef153",
   "metadata": {},
   "source": [
    "## Функция randint из модуля random. Функция process_time из модуля time"
   ]
  },
  {
   "cell_type": "code",
   "execution_count": 4,
   "id": "308c2368-e9aa-4c9b-9966-e507da151c7d",
   "metadata": {},
   "outputs": [
    {
     "data": {
      "text/plain": [
       "\u001b[1;31mSignature:\u001b[0m \u001b[0mrandint\u001b[0m\u001b[1;33m(\u001b[0m\u001b[0ma\u001b[0m\u001b[1;33m,\u001b[0m \u001b[0mb\u001b[0m\u001b[1;33m)\u001b[0m\u001b[1;33m\u001b[0m\u001b[1;33m\u001b[0m\u001b[0m\n",
       "\u001b[1;31mDocstring:\u001b[0m\n",
       "Return random integer in range [a, b], including both end points.\n",
       "        \n",
       "\u001b[1;31mFile:\u001b[0m      c:\\programdata\\anaconda3\\lib\\random.py\n",
       "\u001b[1;31mType:\u001b[0m      method"
      ]
     },
     "metadata": {},
     "output_type": "display_data"
    }
   ],
   "source": [
    "from random import randint\n",
    "?randint"
   ]
  },
  {
   "cell_type": "code",
   "execution_count": 5,
   "id": "ef60314b-fdd8-4212-a398-abe0afd9a27b",
   "metadata": {},
   "outputs": [
    {
     "data": {
      "text/plain": [
       "'Код символа: 97, символ: a'"
      ]
     },
     "execution_count": 5,
     "metadata": {},
     "output_type": "execute_result"
    }
   ],
   "source": [
    "latin_code = (ord('a'), ord('z')) # соответствует type_symbols = 'latin'\n",
    "f'Код символа: {(c:=randint(*latin_code))}, символ: {chr(c)}'"
   ]
  },
  {
   "cell_type": "code",
   "execution_count": 6,
   "id": "4890b7a9-00b5-446e-8686-263aeb9b54d2",
   "metadata": {},
   "outputs": [
    {
     "data": {
      "text/plain": [
       "\u001b[1;31mDocstring:\u001b[0m\n",
       "process_time() -> float\n",
       "\n",
       "Process time for profiling: sum of the kernel and user-space CPU time.\n",
       "\u001b[1;31mType:\u001b[0m      builtin_function_or_method"
      ]
     },
     "metadata": {},
     "output_type": "display_data"
    }
   ],
   "source": [
    "from time import process_time\n",
    "?process_time"
   ]
  },
  {
   "cell_type": "code",
   "execution_count": 7,
   "id": "3c824b38-3d0d-4ff3-9ed8-4c8bdf832284",
   "metadata": {},
   "outputs": [
    {
     "name": "stdout",
     "output_type": "stream",
     "text": [
      "0.0 секунд\n"
     ]
    }
   ],
   "source": [
    "start = process_time()\n",
    "[x**2 for x in range(1_000_000)]\n",
    "end = process_time()\n",
    "print(f'{end - start} секунд')"
   ]
  },
  {
   "cell_type": "markdown",
   "id": "85d25028-6ef8-4e43-bd5c-d4cb65fd2c35",
   "metadata": {},
   "source": [
    "## Задание 9.1. Запись данных в текстовый файл"
   ]
  },
  {
   "cell_type": "code",
   "execution_count": 9,
   "id": "ed50faaf-b1cc-489d-9fca-544a363fd51b",
   "metadata": {},
   "outputs": [
    {
     "data": {
      "text/plain": [
       "['t\\n', 'e\\n', 's\\n', 't\\n']"
      ]
     },
     "execution_count": 9,
     "metadata": {},
     "output_type": "execute_result"
    }
   ],
   "source": [
    "file_name = 'test.txt'\n",
    "f = open(file_name, 'w')\n",
    "lines_list = [f'{x}\\n' for x in 'test']\n",
    "lines_list"
   ]
  },
  {
   "cell_type": "code",
   "execution_count": 10,
   "id": "c94e04eb-c931-45fc-9138-234238f5811b",
   "metadata": {},
   "outputs": [
    {
     "name": "stdout",
     "output_type": "stream",
     "text": [
      "t\n",
      "e\n",
      "s\n",
      "t\n"
     ]
    }
   ],
   "source": [
    "f.writelines(lines_list)\n",
    "f.close()\n",
    "with open(file_name,'r') as f:\n",
    "    for line in f:\n",
    "        print(line, end='')"
   ]
  },
  {
   "cell_type": "code",
   "execution_count": 11,
   "id": "7f55e047-2810-47fa-abb2-04019ed56f81",
   "metadata": {},
   "outputs": [
    {
     "name": "stdout",
     "output_type": "stream",
     "text": [
      "6.569757461547852 Mb\n"
     ]
    }
   ],
   "source": [
    "lines_gen_expr = (f'{x}\\n' for x in range(10**6))\n",
    "\n",
    "def lines_gen_fun(number_lines=10**6):\n",
    "    yield from (f'{x}\\n' for x in range(number_lines))\n",
    "\n",
    "with open(file_name,'w') as f:\n",
    "    f.writelines(lines_gen_expr)\n",
    "    f.writelines(lines_gen_fun())\n",
    "def lines_gen_fun(number_lines = 10**6):\n",
    "    file_size = 0\n",
    "    for x in range(number_lines):\n",
    "        line = f'{x}\\n'\n",
    "        yield line\n",
    "        file_size += len(line)\n",
    "    print(f'{file_size/1024**2} Mb')\n",
    "\n",
    "with open(file_name,'w') as f:\n",
    "    f.writelines(lines_gen_fun())"
   ]
  },
  {
   "cell_type": "code",
   "execution_count": 12,
   "id": "6f421604-8a8c-42c2-a362-81bff2b4083f",
   "metadata": {},
   "outputs": [
    {
     "data": {
      "text/plain": [
       "(1, 1, 1, 2)"
      ]
     },
     "execution_count": 12,
     "metadata": {},
     "output_type": "execute_result"
    }
   ],
   "source": [
    "len('f'), len('f'.encode('utf8')), len('ц'), len('ц'.encode('utf8'))"
   ]
  },
  {
   "cell_type": "code",
   "execution_count": 13,
   "id": "05bd130e-178a-4c6b-bf4c-ba972f973b08",
   "metadata": {},
   "outputs": [
    {
     "name": "stdout",
     "output_type": "stream",
     "text": [
      "6.569757461547852 Mb\n",
      "1.15625 секунд\n"
     ]
    }
   ],
   "source": [
    "with open(file_name,'w') as f:\n",
    "    start = process_time()\n",
    "    f.writelines(lines_gen_fun()) \n",
    "    end = process_time()\n",
    "    print(end - start, 'секунд')"
   ]
  },
  {
   "cell_type": "markdown",
   "id": "c0f8c54e-f8f7-4181-932b-aa9c87904797",
   "metadata": {},
   "source": [
    "Напишите комментарии для каждой строки кода функции lines_gen_fun."
   ]
  },
  {
   "cell_type": "code",
   "execution_count": 15,
   "id": "3542c385-74f1-4660-861e-4f0ea2e14c7b",
   "metadata": {},
   "outputs": [],
   "source": [
    "def lines_gen_fun(number_lines=10**6, status=False):\n",
    "    # отслеживаем общий размер файла в байтах\n",
    "    file_size = 0\n",
    "    \n",
    "    # цикл по количеству строк\n",
    "    for x in range(number_lines):\n",
    "        # создаем строку с текущим числом и переносом строки\n",
    "        line = f'{x}\\n'\n",
    "        \n",
    "        # возвращаем строку\n",
    "        yield line\n",
    "        \n",
    "        # увеличиваем размер файла на длину строки\n",
    "        file_size += len(line)\n",
    "        \n",
    "        # если нужно отображать статус\n",
    "        if status:\n",
    "            # вычисляем процент выполнения\n",
    "            status_number = x / number_lines * 100\n",
    "            \n",
    "            # выводим процент, перезаписывая текущую строку\n",
    "            print(f'\\r{int(status_number)}%', end='', flush=True)\n",
    "    \n",
    "    # выводим общий размер файла в мегабайтах\n",
    "    print(f'\\n {file_size / 1024**2} Mb')"
   ]
  },
  {
   "cell_type": "code",
   "execution_count": 16,
   "id": "8673d4d5-a697-4ffa-99c9-82ceff752c30",
   "metadata": {},
   "outputs": [
    {
     "name": "stdout",
     "output_type": "stream",
     "text": [
      "99%\n",
      " 0.013246536254882812 Mb\n",
      "0.6875 секунд\n"
     ]
    }
   ],
   "source": [
    "with open(file_name,'w') as f:\n",
    "    start = process_time()\n",
    "    f.writelines(lines_gen_fun(3*10**3, status=True))\n",
    "    end = process_time()\n",
    "    print(f'{end - start} секунд')"
   ]
  },
  {
   "cell_type": "markdown",
   "id": "2108d081-2f62-458a-b033-c277c04b86e2",
   "metadata": {},
   "source": [
    "## Задание 9.2. Генерация строк"
   ]
  },
  {
   "cell_type": "code",
   "execution_count": 18,
   "id": "3404af65-e7c0-4cb6-97df-6a290540fdc9",
   "metadata": {},
   "outputs": [
    {
     "data": {
      "text/plain": [
       "'bndclz'"
      ]
     },
     "execution_count": 18,
     "metadata": {},
     "output_type": "execute_result"
    }
   ],
   "source": [
    "latin_code = (ord('a'), ord('z')) # соответствует type_symbols = 'latin'\n",
    "number_words = (10, 20)\n",
    "number_symbols = (5, 10)\n",
    "len_word = randint(*number_symbols)\n",
    "word = ''.join([chr(randint(*latin_code)) for i in range(len_word)])\n",
    "word"
   ]
  },
  {
   "cell_type": "markdown",
   "id": "bd6ef437-21d9-4968-87a9-96c2b949afce",
   "metadata": {},
   "source": [
    "1.Напишите код для генерации строки со случайным количеством слов,\n",
    "случайной длиной слова и случайным набором символов в слове для трех\n",
    "множеств смволов: прописные латинские символы, цифровые символы,\n",
    "прописные кириллические символы. Протестируйте написанный код.\n",
    "\n",
    "2.Напишите генераторную функцию lines_gen_fun_v2(file_size,\n",
    "type_symbols, number_words, number_symbols) для генерации строк,\n",
    "суммарный размер которых в мегабайтах равен file_size.\n",
    "\n",
    "3.Напишите  комментарии для каждой строки кода функции lines_gen_fun_v2.\n",
    "\n",
    "4.Напишите строки документации для функции lines_gen_fun_v2.\n",
    "\n",
    "5.Протестируйте функцию lines_gen_fun_v2 для различных значений\n",
    "аргументов в предположении, что корректность вводимых данных\n",
    "гарантируется"
   ]
  },
  {
   "cell_type": "markdown",
   "id": "b9545c3e-cf47-45ba-9160-2a9d3274b4ae",
   "metadata": {},
   "source": [
    "1:"
   ]
  },
  {
   "cell_type": "code",
   "execution_count": 21,
   "id": "437be2e0-b3a9-415c-b95e-d10435f80a98",
   "metadata": {},
   "outputs": [
    {
     "name": "stdout",
     "output_type": "stream",
     "text": [
      "8556632 488702189 ИЭАТФЦСЪ HSKLCYJMG SGFMZMF QOAI OAFVGUNU ЗЛГТДМЁХН\n",
      "ЛАЭГЭ ЦЁЮЬКЯЁТ ЪЪОМ\n",
      "5436 ПКРСХНЯХ BEBKDZ\n",
      "61719 ТЮЖЧЙЯХКЭЖ AVGRVGFRJO\n",
      "VCFJ ЬЧШЁМКТЯЯ UOITUZXEOQ 9297948 ЮИЖА ТЯЩГУВУА 1722 NQKJZXQISK ЧЮАХТ ЪЮЕЛЗТКХ\n"
     ]
    }
   ],
   "source": [
    "import random\n",
    "import string\n",
    "\n",
    "def generate_random_string():\n",
    "    # Определяем множества символов\n",
    "    uppercase_latin = string.ascii_uppercase\n",
    "    digits = string.digits\n",
    "    uppercase_cyrillic = 'АБВГДЕЁЖЗИЙКЛМНОПРСТУФХЦЧШЩЪЫЬЭЮЯ'\n",
    "    \n",
    "    # Случайный выбор количества слов (например, от 1 до 10)\n",
    "    number_words = random.randint(1, 10)\n",
    "    \n",
    "    # Список для хранения слов\n",
    "    words = []\n",
    "    \n",
    "    for _ in range(number_words):\n",
    "        # Случайная длина слова \n",
    "        length = random.randint(3, 10)\n",
    "        \n",
    "        # Случайный выбор набора символов\n",
    "        symbol_set = random.choice([uppercase_latin, digits, uppercase_cyrillic])\n",
    "        \n",
    "        # Генерация случайного слова\n",
    "        word = ''.join(random.choices(symbol_set, k=length))\n",
    "        \n",
    "        # Добавление слова в список\n",
    "        words.append(word)\n",
    "    \n",
    "    # Объединение слов в строку с пробелами\n",
    "    random_string = ' '.join(words)\n",
    "    return random_string\n",
    "\n",
    "# Тестирование функции\n",
    "if __name__ == \"__main__\":\n",
    "    # Генерируем и выводим 5 случайных строк\n",
    "    for _ in range(5):\n",
    "        print(generate_random_string())"
   ]
  },
  {
   "cell_type": "markdown",
   "id": "f9c04e0c-9d41-46ba-82d0-2597bbf92128",
   "metadata": {},
   "source": [
    "2, 3, 4:"
   ]
  },
  {
   "cell_type": "code",
   "execution_count": 23,
   "id": "02dc2982-0d75-430e-950d-c2aa4d3452a2",
   "metadata": {},
   "outputs": [],
   "source": [
    "def lines_gen_fun_v2(file_size, type_symbols, number_words, number_symbols):\n",
    "    \"\"\"\n",
    "    Генераторная функция для создания строк с заданными параметрами.\n",
    "\n",
    "    :param file_size: Целевой размер файла в мегабайтах (float)\n",
    "    :param type_symbols: Тип символов ('latin', 'digits', 'cyrillic')\n",
    "    :param number_words: Количество слов в строке (int)\n",
    "    :param number_symbols: Количество символов в слове (int)\n",
    "    :yield: Строка с заданными параметрами\n",
    "    \"\"\"\n",
    "    # Преобразуем размер файла в байты\n",
    "    target_size = file_size * 1024 * 1024\n",
    "    \n",
    "    # Определяем множество символов в зависимости от типа\n",
    "    if type_symbols == 'latin':\n",
    "        symbol_set = string.ascii_uppercase\n",
    "    elif type_symbols == 'digits':\n",
    "        symbol_set = string.digits\n",
    "    elif type_symbols == 'cyrillic':\n",
    "        symbol_set = 'АБВГДЕЁЖЗИЙКЛМНОПРСТУФХЦЧШЩЪЫЬЭЮЯ'\n",
    "    else:\n",
    "        raise ValueError(\"Неверный тип символов\")\n",
    "    \n",
    "    # Инициализация переменной для отслеживания размера\n",
    "    current_size = 0\n",
    "    \n",
    "    while True:\n",
    "        # Генерация строки\n",
    "        line = ' '.join([''.join(random.choices(symbol_set, k=number_symbols)) for _ in range(number_words)])\n",
    "        \n",
    "        # Вычисление размера строки в байтах\n",
    "        line_size = len(line.encode('utf-8'))\n",
    "        \n",
    "        # Проверка, не превышает ли размер целевого размера\n",
    "        if current_size + line_size > target_size:\n",
    "            return\n",
    "        \n",
    "        # Возврат строки\n",
    "        yield line\n",
    "        \n",
    "        # Увеличение текущего размера\n",
    "        current_size += line_size"
   ]
  },
  {
   "cell_type": "markdown",
   "id": "9ef579a8-04b6-4b05-af4c-cbaddc675af8",
   "metadata": {},
   "source": [
    "5:"
   ]
  },
  {
   "cell_type": "code",
   "execution_count": 25,
   "id": "b4b75bfb-9b3c-4e07-a71d-1f1865f0eaf4",
   "metadata": {},
   "outputs": [
    {
     "name": "stdout",
     "output_type": "stream",
     "text": [
      "ХУУЖЖФГД ЩГШЕУКЁТ ЮБЦХБМКГ ДШЮЭИИВУ ЖСЬЙЁЪНД\n",
      "ЬВПБИЦЯИ ШЪВАКНЧЧ ШМЛПЕФЪГ ЕГЩШЭОГБ НБТЯЦЦБН\n",
      "ЗХФШЕЗОЙ ЧТШЭПОШК ЭЩЙЮКОЦА ЯЩЬВТЫЦХ ШСХОИАЫР\n",
      "ШБЁДФЗЕЖ ЬХПЕЦЙЪР СЕЙПЯЭЪЭ ПИХБТЬЯЙ ДБКЕЁЗПЧ\n",
      "КФЁШЖЫМД ЁРЭЁДЪПО УШЙБОДЧБ РВОЛВЖУЪ ВХБЖУХЪМ\n"
     ]
    }
   ],
   "source": [
    "# Тестирование функции\n",
    "if __name__ == \"__main__\":\n",
    "    file_size = 1  # 1 Мб\n",
    "    type_symbols = 'cyrillic'\n",
    "    number_words = 5\n",
    "    number_symbols = 8\n",
    "    \n",
    "    # Создание генератора\n",
    "    generator = lines_gen_fun_v2(file_size, type_symbols, number_words, number_symbols)\n",
    "    \n",
    "    # Генерация и вывод 5 строк\n",
    "    for _ in range(5):\n",
    "        print(next(generator))"
   ]
  },
  {
   "cell_type": "markdown",
   "id": "f6c2eef7-2dac-46fe-a12a-3983a497e0bf",
   "metadata": {},
   "source": [
    "## Задание 9.3. Запись сгенерированных строк в тексттовый файл"
   ]
  },
  {
   "cell_type": "markdown",
   "id": "31a26e11-2382-44a4-a9d6-a38ffc8e364a",
   "metadata": {},
   "source": [
    "1.Напишите результирующую генераторную функцию\n",
    "\n",
    "\n",
    "file_gen(file_name: str,\n",
    "    file_size: int,\n",
    "    type_symbols: str='latin',\n",
    "    number_words: (int,int)=(10,20),\n",
    "    number_symbols: (int,int)=(5,10))"
   ]
  },
  {
   "cell_type": "markdown",
   "id": "06790356-040c-4539-bc86-890f62e4e81c",
   "metadata": {},
   "source": [
    "Функция file_gen должна использовать функцию lines_gen_fun_v2 из Задания\n",
    "9.2.\n",
    "Функция file_gen должна выводить на экран:\n",
    "- процент записанных данных в процессе выполнения функции,\n",
    "- фактический размер записанных данных в мегабайтах,\n",
    "- время для выполнения кода функции."
   ]
  },
  {
   "cell_type": "markdown",
   "id": "4e2895dc-d1e8-4deb-9a03-5b4b95c98402",
   "metadata": {},
   "source": [
    "2. Напишите комментарии для каждой строки кода функции file_gen.\n",
    "\n",
    "3. Напишите строки документации для функции file_gen.\n",
    "\n",
    "4. Протестируйте функцию file_gen для различных значений аргументов в\n",
    "предположении, что корректность вводимых данных гарантируется."
   ]
  },
  {
   "cell_type": "code",
   "execution_count": 30,
   "id": "4c893692-6a5d-4f66-9364-b04eef64523e",
   "metadata": {},
   "outputs": [],
   "source": [
    "import random\n",
    "import string\n",
    "import time\n",
    "\n",
    "def file_gen(file_name: str,\n",
    "            file_size: int,\n",
    "            type_symbols: str = 'latin',\n",
    "            number_words: tuple[int, int] = (10, 20),\n",
    "            number_symbols: tuple[int, int] = (5, 10)):\n",
    "    \"\"\"\n",
    "    Генераторная функция для создания строк с заданными параметрами и записи их в файл.\n",
    "\n",
    "    :param file_name: Имя файла для записи (str)\n",
    "    :param file_size: Целевой размер файла в мегабайтах (int)\n",
    "    :param type_symbols: Тип символов ('latin', 'digits', 'cyrillic') (str)\n",
    "    :param number_words: Диапазон количества слов в строке (tuple[int, int])\n",
    "    :param number_symbols: Диапазон количества символов в слове (tuple[int, int])\n",
    "    \"\"\"\n",
    "    target_size = file_size * 1024 * 1024  # Переводим размер файла в байты\n",
    "    current_size = 0  # Текущий размер файла в байтах\n",
    "    start_time = time.time()  # Засекаем время начала выполнения функции\n",
    "\n",
    "    # Определяем множество символов в зависимости от типа\n",
    "    if type_symbols == 'latin':\n",
    "        symbol_set = string.ascii_uppercase\n",
    "    elif type_symbols == 'digits':\n",
    "        symbol_set = string.digits\n",
    "    elif type_symbols == 'cyrillic':\n",
    "        symbol_set = 'АБВГДЕЁЖЗИЙКЛМНОПРСТУФХЦЧШЩЪЫЬЭЮЯ'\n",
    "    else:\n",
    "        raise ValueError(\"Неверный тип символов\")\n",
    "\n",
    "    with open(file_name, 'w') as file:\n",
    "        while current_size < target_size:\n",
    "            # Генерируем случайное количество слов и символов в слове\n",
    "            words_count = random.randint(*number_words)\n",
    "            symbols_count = random.randint(*number_symbols)\n",
    "            \n",
    "            # Генерируем строку\n",
    "            line = ' '.join([''.join(random.choices(symbol_set, k=symbols_count)) for _ in range(words_count)])\n",
    "            \n",
    "            # Записываем строку в файл\n",
    "            file.write(line + '\\n')\n",
    "            \n",
    "            # Увеличиваем текущий размер файла\n",
    "            current_size += len(line.encode('utf-8'))\n",
    "            \n",
    "            # Выводим процент записанных данных\n",
    "            percent = (current_size / target_size) * 100\n",
    "            print(f'\\r{int(percent)}%', end='', flush=True)\n",
    "    \n",
    "    # Выводим фактический размер записанных данных и время выполнения\n",
    "    actual_size = current_size / 1024 / 1024\n",
    "    elapsed_time = time.time() - start_time\n",
    "    print(f'\\n {actual_size:.2f} Mb')\n",
    "    print(f' Время выполнения: {elapsed_time:.2f} сек')"
   ]
  },
  {
   "cell_type": "code",
   "execution_count": 31,
   "id": "965dcebf-03f8-4d4c-8545-6965016fd093",
   "metadata": {},
   "outputs": [
    {
     "name": "stdout",
     "output_type": "stream",
     "text": [
      "100%\n",
      " 1.00 Mb\n",
      " Время выполнения: 10.45 сек\n"
     ]
    }
   ],
   "source": [
    "# Тестирование функции\n",
    "if __name__ == \"__main__\":\n",
    "    file_name = 'output.txt'\n",
    "    file_size = 1  # 1 Мб\n",
    "    type_symbols = 'cyrillic'\n",
    "    number_words = (5, 10)\n",
    "    number_symbols = (3, 8)\n",
    "    \n",
    "    file_gen(file_name, file_size, type_symbols, number_words, number_symbols)"
   ]
  },
  {
   "cell_type": "code",
   "execution_count": null,
   "id": "ef0228b1-da9a-448e-bafd-2c001324595f",
   "metadata": {},
   "outputs": [],
   "source": []
  }
 ],
 "metadata": {
  "kernelspec": {
   "display_name": "Python [conda env:base] *",
   "language": "python",
   "name": "conda-base-py"
  },
  "language_info": {
   "codemirror_mode": {
    "name": "ipython",
    "version": 3
   },
   "file_extension": ".py",
   "mimetype": "text/x-python",
   "name": "python",
   "nbconvert_exporter": "python",
   "pygments_lexer": "ipython3",
   "version": "3.12.3"
  }
 },
 "nbformat": 4,
 "nbformat_minor": 5
}

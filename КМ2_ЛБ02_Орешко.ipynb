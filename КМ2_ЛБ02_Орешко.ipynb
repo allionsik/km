{
 "cells": [
  {
   "cell_type": "markdown",
   "id": "a0a3220e-937d-4ca0-8c7c-e2a851a1852d",
   "metadata": {},
   "source": [
    "## Лабораторная работа 2."
   ]
  },
  {
   "cell_type": "markdown",
   "id": "cd9433cd-6a7c-4887-a23e-72d0d77a4b92",
   "metadata": {},
   "source": [
    "Орешко Алёна Владимировна. 06.03.2025"
   ]
  },
  {
   "cell_type": "markdown",
   "id": "d00be4a2-5a96-4e7d-b473-841d29e73319",
   "metadata": {},
   "source": [
    "## Задание 1."
   ]
  },
  {
   "cell_type": "markdown",
   "id": "6ca09675-d8e1-4fe0-b443-128386c83b03",
   "metadata": {},
   "source": [
    "Встроенные типы объектов:\n",
    "\n",
    "*1)Числа:*\n",
    "- int-(неизменяемый)-> 0;1;-1\n",
    "- float-(неизменяемый) -> 5.0; 7.5\n",
    "- complex-(неизменяемый) -> 1-j; 4+5j\n",
    "- bool-(неизменяемый) -> true, false\n",
    "  \n",
    "*2)Колекции*\n",
    "- Последовательности\n",
    "  1. str(строки)-(неизменяемый)(упорядоченная) -> \"Hi\", 'How are you?'\n",
    "  2. list(списки)-(изменяемый)(упорядоченная) -> [1, 2, 3, 4, 5], ['a', 'b']\n",
    "  3. tuple(кортежи)-(неизменяемый)(упорядоченная) -> (1, 2, 3, 4, 5), ('a', 'b')\n",
    "- Отображения \n",
    "  1. dict(словари)-(изменяемый)(неупорядоченная) -> {'name': 'Alyona'}\n",
    "- Мн-ва\n",
    "  1. set-(изменяемый)(неупорядоченная) -> {1, 2, 3}\n",
    "  2. frozenset-(неизменяемый)(неупорядоченная) -> frozenset([1, 2, 3])"
   ]
  },
  {
   "cell_type": "markdown",
   "id": "6f5b261f-4e9a-4d9f-ae51-69f5b57a789c",
   "metadata": {},
   "source": [
    "## Задание 2. (2.1-2.2)"
   ]
  },
  {
   "cell_type": "markdown",
   "id": "47066947-1f8d-4a88-a030-972a8d54fb8c",
   "metadata": {},
   "source": [
    "**2.1 Понятие объекта. Атрибуты.\n",
    "Методы. Встроенные типы объектов**"
   ]
  },
  {
   "cell_type": "markdown",
   "id": "23c051a0-1e8b-413c-adf2-d9b08167547b",
   "metadata": {},
   "source": [
    "  **Объект** в Python — это базовая сущность для представления данных.\n",
    "  К объектам в Python относятся: данные встроенных типов, встроенные и\n",
    "пользовательские функции, файлы, модули, встроенные и пользовательские классы,\n",
    "экземпляры классов и т.д.\n",
    "  Внутренне объекты представляют собой области выделенной памяти с достаточным\n",
    "пространством для хранения информации об объекте.\n",
    "  **Атрибут** — это имя переменной или имя функции, которое связано с объектом и используется\n",
    "для получения информации об объекте и совершения действий над этим объектом.\n",
    "  Атрибуты объектов могут быть именами переменных или именами функций. Если\n",
    "атрибут объекта является именем функции, то он называется **методом**."
   ]
  },
  {
   "cell_type": "markdown",
   "id": "612bfeac-ddbb-43cb-9111-b3ec335c40ed",
   "metadata": {},
   "source": [
    "**2.2 Встроенные типы объектов, представляющих числа**"
   ]
  },
  {
   "cell_type": "markdown",
   "id": "fd541ca3-ab27-40d1-8dd6-1ad56024eb93",
   "metadata": {},
   "source": [
    "**Decimal** для более точных вычислений с плавающей точкой."
   ]
  },
  {
   "cell_type": "code",
   "execution_count": 41,
   "id": "350cfea1-d57d-4a7d-8ef7-a81b900ed7de",
   "metadata": {},
   "outputs": [
    {
     "name": "stdout",
     "output_type": "stream",
     "text": [
      "6.458302\n"
     ]
    }
   ],
   "source": [
    "from decimal import Decimal\n",
    "from decimal import getcontext\n",
    "getcontext().prec = 10\n",
    "num1 = Decimal('3.6749')\n",
    "num2 = Decimal('2.783402')\n",
    "summa1 = num1 + num2\n",
    "print(summa1) "
   ]
  },
  {
   "cell_type": "markdown",
   "id": "e799bb95-94fe-42bd-9f2e-9634156b630e",
   "metadata": {},
   "source": [
    "**Franction** для работы с дробями."
   ]
  },
  {
   "cell_type": "code",
   "execution_count": 44,
   "id": "36b1ada3-9d7e-4cfd-a5ad-4a7a7f7a6819",
   "metadata": {},
   "outputs": [
    {
     "name": "stdout",
     "output_type": "stream",
     "text": [
      "9/10\n"
     ]
    }
   ],
   "source": [
    "from fractions import Fraction\n",
    "frac1 = Fraction(1, 2)  # 1/2\n",
    "frac2 = Fraction(2, 5)  # 2/5\n",
    "summa2 = frac1 + frac2\n",
    "print(summa2)"
   ]
  },
  {
   "cell_type": "markdown",
   "id": "2e19f8a6-40c6-4438-857f-82a2a6de3c20",
   "metadata": {},
   "source": [
    "**2.3 Встроенные типы последовательностей: str, list, tuple**"
   ]
  },
  {
   "cell_type": "markdown",
   "id": "f5d45f0f-e005-4bd5-8f40-4ce806413ebb",
   "metadata": {},
   "source": [
    "Нарезание и конкатенация:"
   ]
  },
  {
   "cell_type": "code",
   "execution_count": 421,
   "id": "fa036986-8095-4cb9-adcb-f88551863a67",
   "metadata": {},
   "outputs": [
    {
     "name": "stdout",
     "output_type": "stream",
     "text": [
      "slam\n"
     ]
    }
   ],
   "source": [
    "S = 'spam'\n",
    "S = S[:1] + 'l' + S[2:] \n",
    "print(S)"
   ]
  },
  {
   "cell_type": "markdown",
   "id": "71f465a5-237e-412a-b747-b4fc614a0885",
   "metadata": {},
   "source": [
    "Индексации и конкатенация:\n",
    "В Rython нельзя выполнять присваивание по индексу, а также, как было описано раннее, строки изменять нельзя."
   ]
  },
  {
   "cell_type": "markdown",
   "id": "74b30c7c-0917-476a-b570-97a479764881",
   "metadata": {},
   "source": [
    "Примеры для списка и кортежа:"
   ]
  },
  {
   "cell_type": "code",
   "execution_count": 64,
   "id": "7e24b6d6-38e9-49da-939d-0dae2b174aa1",
   "metadata": {},
   "outputs": [],
   "source": [
    "lst = [1, 2, 3, 4] # Список\n",
    "tpl = (1, 2, 3, 4) # Кортеж"
   ]
  },
  {
   "cell_type": "markdown",
   "id": "094382f5-25cd-4626-89af-88d9be7294a8",
   "metadata": {},
   "source": [
    "Присваивание по индексу:"
   ]
  },
  {
   "cell_type": "code",
   "execution_count": 59,
   "id": "73b7a8aa-0c8f-4a17-b11a-d79c98e1a0b1",
   "metadata": {},
   "outputs": [
    {
     "name": "stdout",
     "output_type": "stream",
     "text": [
      "[1, 2, 8, 4]\n"
     ]
    }
   ],
   "source": [
    "lst = [1, 2, 3, 4]\n",
    "lst[2] = 8 \n",
    "print(lst)"
   ]
  },
  {
   "cell_type": "markdown",
   "id": "e678a1a9-8d79-4264-b63c-fcf997cb3a17",
   "metadata": {},
   "source": [
    "**2.4 Встроенный тип отображения: dict**"
   ]
  },
  {
   "cell_type": "markdown",
   "id": "c207e703-4667-4485-ac62-f15a20baefc5",
   "metadata": {},
   "source": [
    "Структура данных, предоставляющая п.и:"
   ]
  },
  {
   "cell_type": "code",
   "execution_count": 71,
   "id": "e567b3f3-af9e-4663-ab7a-0b5f066e4171",
   "metadata": {},
   "outputs": [
    {
     "name": "stdout",
     "output_type": "stream",
     "text": [
      "('Алёна', 'Орешко', 'Владимировна')\n",
      "18\n"
     ]
    }
   ],
   "source": [
    "personal_info = {\n",
    "    'name': ('Алёна', 'Орешко', 'Владимировна'),\n",
    "    'age': 18,\n",
    "    'workplace': '-',\n",
    "    'address': 'г.Бобруйск',\n",
    "    'email': 'm293866345@gmail.com',\n",
    "    'phone': '+375(29)3866345'\n",
    "}\n",
    "\n",
    "print(personal_info['name'])\n",
    "print(personal_info['age'])"
   ]
  },
  {
   "cell_type": "markdown",
   "id": "a692d145-2a3e-4d3a-bb20-81b203d79392",
   "metadata": {},
   "source": [
    "Более удобный способ хранения информации - словарь"
   ]
  },
  {
   "cell_type": "markdown",
   "id": "78227913-4feb-4704-bb29-e1c15002c7b3",
   "metadata": {},
   "source": [
    "**2.5 Встроенный тип множества: set**"
   ]
  },
  {
   "cell_type": "code",
   "execution_count": 79,
   "id": "48976577-c748-41ee-a132-790264b71eb8",
   "metadata": {},
   "outputs": [
    {
     "name": "stdout",
     "output_type": "stream",
     "text": [
      "a bcfdge\n"
     ]
    }
   ],
   "source": [
    "s = \"aaa bbac cffdddgffaae\"\n",
    "unique_chars = set()#мн-во для уникальных\n",
    "result = []\n",
    "#проход по каждому символу с проверкой встречался ли такой символ уже. если нет, добавляем к мн-ву\n",
    "for char in s:\n",
    "    if char not in unique_chars:\n",
    "        unique_chars.add(char)\n",
    "        result.append(char)\n",
    "result_str = ''.join(result)#преобразовали обратно в строку\n",
    "print(result_str)"
   ]
  },
  {
   "cell_type": "markdown",
   "id": "80dbe1ce-9d13-4bb8-b801-c2589cf93012",
   "metadata": {},
   "source": [
    "**2.6 Встроенный булевый тип**"
   ]
  },
  {
   "cell_type": "markdown",
   "id": "46d1e72b-f042-47ac-b4ec-4e853c1d9b57",
   "metadata": {},
   "source": [
    "Значения True/False. Для логических операций и условных выражений."
   ]
  },
  {
   "cell_type": "markdown",
   "id": "a3135a8b-4700-4473-9099-0eeccf69ddb7",
   "metadata": {},
   "source": [
    "**2.7 Изменяемые и неизменяемые встроенные типы объектов**"
   ]
  },
  {
   "cell_type": "markdown",
   "id": "1e2c7589-f6a6-42ae-9f09-f790ce9b680d",
   "metadata": {},
   "source": [
    "Встроенные типы делятся на изменяемые и неизменяемые.\n",
    "\n",
    "Изменяемые: словари, списки, мн-ва.\n",
    "Неизменяемые: числа, кортежи, строки.\n",
    "\n",
    "Неизменяемые после создания изменять нельзя, в изменяемые можно вносить изменения."
   ]
  },
  {
   "cell_type": "markdown",
   "id": "b4ccdb20-238b-4ed9-9e0d-9af8696445b6",
   "metadata": {},
   "source": [
    "**2.8 Интерфейс объекта: операции и методы**"
   ]
  },
  {
   "cell_type": "markdown",
   "id": "dc783386-3488-4fcf-9881-deaf7a5bc1cb",
   "metadata": {},
   "source": [
    "$\\textcolor{orange}{\\text{1)Приведите примеры вызова методов count и index для всех\n",
    "возможных типов объектов.}}$"
   ]
  },
  {
   "cell_type": "code",
   "execution_count": 89,
   "id": "2e653b2a-faab-47f6-97b0-6be886fbf750",
   "metadata": {},
   "outputs": [
    {
     "name": "stdout",
     "output_type": "stream",
     "text": [
      "3\n",
      "7\n"
     ]
    }
   ],
   "source": [
    "# Пример для строки\n",
    "str = \"aabbddaf\"\n",
    "print(str.count('a'))  # Количество букв'a'\n",
    "print(str.index('f'))  # Индекс указанного символа"
   ]
  },
  {
   "cell_type": "code",
   "execution_count": 134,
   "id": "c318ed15-cdc5-44c2-a3c0-78d939979166",
   "metadata": {},
   "outputs": [
    {
     "name": "stdout",
     "output_type": "stream",
     "text": [
      "2\n",
      "2\n"
     ]
    }
   ],
   "source": [
    "# Пример для списка\n",
    "str1 = [3, 2, 6, 1, 7, 5, 4, 1]\n",
    "print(str1.count(1)) \n",
    "print(str1.index(6))  "
   ]
  },
  {
   "cell_type": "markdown",
   "id": "6eb0d4cd-0a5a-49e9-87be-4ff0ce6f386a",
   "metadata": {},
   "source": [
    "Count возвращает кол-во. Index возвращает индекс"
   ]
  },
  {
   "cell_type": "markdown",
   "id": "ce6cc1b0-f96e-4382-89b9-c5e13ada0965",
   "metadata": {},
   "source": [
    "$\\textcolor{orange}{\\text{\n",
    "2)Приведите пример выражения, в котором для заданной строки\n",
    "последовательно применены три различных строковых метода.}}$"
   ]
  },
  {
   "cell_type": "markdown",
   "id": "9033966d-ad1a-401d-98ce-d3377d34ab74",
   "metadata": {},
   "source": [
    ".swapcase()                     - Инвертирует регистр символов (большие → маленькие, маленькие → большие).\n",
    "\n",
    "strip()                         - Удаляет пробелы в начале и конце строки.\n",
    "\n",
    ".replace(\"символ1\", \"символ2\")  - Заменяет символ1 на символ2"
   ]
  },
  {
   "cell_type": "code",
   "execution_count": 136,
   "id": "488c105d-f983-4915-81d6-d67b540b8c10",
   "metadata": {},
   "outputs": [
    {
     "name": "stdout",
     "output_type": "stream",
     "text": [
      "AAaB Bc11c1D DdTT\n"
     ]
    }
   ],
   "source": [
    "str2 = \" aaAb bCccCcd dDtt \"\n",
    "result = str2.strip().swapcase().replace(\"C\", \"1\")\n",
    "print(result)"
   ]
  },
  {
   "cell_type": "markdown",
   "id": "1149a21b-7e90-4c23-86d4-ff5478dc4e2f",
   "metadata": {},
   "source": [
    "$\\textcolor{orange}{\\text{3)Приведите примеры добавления элемента в список с использованием\n",
    "трех различных списковых методов.}}$"
   ]
  },
  {
   "cell_type": "code",
   "execution_count": 139,
   "id": "ede206ba-1d8b-4e06-a2f3-5c4217f62dc5",
   "metadata": {},
   "outputs": [
    {
     "name": "stdout",
     "output_type": "stream",
     "text": [
      "[1, 2, 3, 4, 0, 5, 8, 9]\n"
     ]
    }
   ],
   "source": [
    "str3 = [1, 2, 3, 4]\n",
    "str3.append(5) #к концу списка добавит 5\n",
    "str3.insert(4, 0)#куда добавить, какой эл-т\n",
    "str3.extend([8, 9])#добавляет перечисленные эл-ты в конец данного списка(.append() добавляет то, что в скобках, как один целый эл-т)\n",
    "print(str3)"
   ]
  },
  {
   "cell_type": "markdown",
   "id": "331980a7-94c5-446a-8706-9954c87a8fb9",
   "metadata": {},
   "source": [
    "$\\textcolor{orange}{\\text{4)Приведите пример сортировки списка с использованием метода sort и\n",
    "заданного аргумента key. Прокомментируйте результат вычисления.}}$"
   ]
  },
  {
   "cell_type": "markdown",
   "id": "7172665d-69c5-4b5f-a406-b050a410104b",
   "metadata": {},
   "source": [
    "Сортировка по длине строки:"
   ]
  },
  {
   "cell_type": "code",
   "execution_count": 146,
   "id": "cf4b19e0-047d-46d1-b89c-a4b234445cd4",
   "metadata": {},
   "outputs": [
    {
     "name": "stdout",
     "output_type": "stream",
     "text": [
      "['aaaabb', 'gdgjjggsx', 'bbbdddgggr']\n"
     ]
    }
   ],
   "source": [
    "str4 = ['aaaabb', 'bbbdddgggr', 'gdgjjggsx']\n",
    "str4.sort(key=len) \n",
    "print(str4)"
   ]
  },
  {
   "cell_type": "markdown",
   "id": "4596f3e4-2b69-45f0-8876-db9e5e5e4143",
   "metadata": {},
   "source": [
    "Сортировка по модулю:"
   ]
  },
  {
   "cell_type": "code",
   "execution_count": 148,
   "id": "ef60b129-319c-4f77-9a0b-71b0b92c6057",
   "metadata": {},
   "outputs": [
    {
     "name": "stdout",
     "output_type": "stream",
     "text": [
      "[0, 1, 3, -3, -4, 7]\n"
     ]
    }
   ],
   "source": [
    "str5 = [-4, 5 -2, 7, -3, 1, 0]\n",
    "str5.sort(key=abs)\n",
    "print(str5)"
   ]
  },
  {
   "cell_type": "markdown",
   "id": "918dabf6-17b7-418c-8f8e-4c639698befc",
   "metadata": {},
   "source": [
    "Сортировка по последней букве слова:"
   ]
  },
  {
   "cell_type": "code",
   "execution_count": 153,
   "id": "ae686fd3-df28-472d-b561-868b9ca00c1d",
   "metadata": {},
   "outputs": [
    {
     "name": "stdout",
     "output_type": "stream",
     "text": [
      "['kmkffta', 'dfdfgha', 'hgdswje', 'bggtyjubf']\n"
     ]
    }
   ],
   "source": [
    "str5 = [\"hgdswje\", \"kmkffta\", \"bggtyjubf\", \"dfdfgha\"]\n",
    "str5.sort(key=lambda x: x[-1])\n",
    "print(str5) "
   ]
  },
  {
   "cell_type": "markdown",
   "id": "b38c0f2a-7060-4faf-9781-3c7bdbeef9cb",
   "metadata": {},
   "source": [
    "Аргумент key позволяет управлять критериями сортировки и не изменяет исходные данные."
   ]
  },
  {
   "cell_type": "markdown",
   "id": "ab171235-2a30-4b3f-adb6-92f26dd01230",
   "metadata": {},
   "source": [
    "$\\textcolor{orange}{\\text{5)Создайте словарь из 100 элементов с одинаковыми значениями.}}$"
   ]
  },
  {
   "cell_type": "code",
   "execution_count": 214,
   "id": "9e5740e0-714c-4563-a323-0d20e30afda5",
   "metadata": {},
   "outputs": [
    {
     "name": "stdout",
     "output_type": "stream",
     "text": [
      "Словарь: {0: 'value', 1: 'value', 2: 'value', 3: 'value', 4: 'value', 5: 'value', 6: 'value', 7: 'value', 8: 'value', 9: 'value', 10: 'value', 11: 'value', 12: 'value', 13: 'value', 14: 'value', 15: 'value', 16: 'value', 17: 'value', 18: 'value', 19: 'value', 20: 'value', 21: 'value', 22: 'value', 23: 'value', 24: 'value', 25: 'value', 26: 'value', 27: 'value', 28: 'value', 29: 'value', 30: 'value', 31: 'value', 32: 'value', 33: 'value', 34: 'value', 35: 'value', 36: 'value', 37: 'value', 38: 'value', 39: 'value', 40: 'value', 41: 'value', 42: 'value', 43: 'value', 44: 'value', 45: 'value', 46: 'value', 47: 'value', 48: 'value', 49: 'value', 50: 'value', 51: 'value', 52: 'value', 53: 'value', 54: 'value', 55: 'value', 56: 'value', 57: 'value', 58: 'value', 59: 'value', 60: 'value', 61: 'value', 62: 'value', 63: 'value', 64: 'value', 65: 'value', 66: 'value', 67: 'value', 68: 'value', 69: 'value', 70: 'value', 71: 'value', 72: 'value', 73: 'value', 74: 'value', 75: 'value', 76: 'value', 77: 'value', 78: 'value', 79: 'value', 80: 'value', 81: 'value', 82: 'value', 83: 'value', 84: 'value', 85: 'value', 86: 'value', 87: 'value', 88: 'value', 89: 'value', 90: 'value', 91: 'value', 92: 'value', 93: 'value', 94: 'value', 95: 'value', 96: 'value', 97: 'value', 98: 'value', 99: 'value'}\n"
     ]
    }
   ],
   "source": [
    "slovar = {i: 'value' for i in range(100)}\n",
    "print(\"Словарь:\", slovar)"
   ]
  },
  {
   "cell_type": "markdown",
   "id": "c5b6f1e5-e290-4335-8efd-7693b78be005",
   "metadata": {},
   "source": [
    "**2.9 Переменная**"
   ]
  },
  {
   "cell_type": "markdown",
   "id": "8b38e5db-cf92-4cb1-8e80-58df38245f50",
   "metadata": {},
   "source": [
    "$\\textcolor{green}{\\text{1)Приведите примеры создания циклического объекта для различных\n",
    "встроенных типов.}}$"
   ]
  },
  {
   "cell_type": "markdown",
   "id": "edeee420-e4fc-4478-8770-a1d7abd08a68",
   "metadata": {},
   "source": [
    "Добавляем список в самого себя"
   ]
  },
  {
   "cell_type": "code",
   "execution_count": 223,
   "id": "239b3f66-c0c1-4d7f-b660-d1e62b4c0bfd",
   "metadata": {},
   "outputs": [
    {
     "name": "stdout",
     "output_type": "stream",
     "text": [
      "[[...]]\n"
     ]
    }
   ],
   "source": [
    "lst = []\n",
    "lst.append(lst)  \n",
    "print(lst)       "
   ]
  },
  {
   "cell_type": "markdown",
   "id": "a84ec331-b3dd-4197-8860-f8ddb8edb975",
   "metadata": {},
   "source": [
    "Ключ \"self\" ссылается на сам словарь"
   ]
  },
  {
   "cell_type": "code",
   "execution_count": 228,
   "id": "054d11ff-f90d-48ba-badd-804610333b79",
   "metadata": {},
   "outputs": [
    {
     "name": "stdout",
     "output_type": "stream",
     "text": [
      "{'self': {...}}\n"
     ]
    }
   ],
   "source": [
    "d = {}\n",
    "d[\"self\"] = d    \n",
    "print(d)        "
   ]
  },
  {
   "cell_type": "markdown",
   "id": "03367df8-a19c-434d-8f83-d9ffc8bc48b1",
   "metadata": {},
   "source": [
    "$\\textcolor{green}{\\text{2)Создайте объект, на который ссылаются четыре переменные. Как можно\n",
    "узнать количество ссылок для заданного объекта?}}$"
   ]
  },
  {
   "cell_type": "markdown",
   "id": "e5c84538-3777-4df9-88e4-3d21a24aec92",
   "metadata": {},
   "source": [
    "4 переменные ссылаются на один и тот же список"
   ]
  },
  {
   "cell_type": "code",
   "execution_count": 242,
   "id": "2e3daf90-0d64-40e9-9eff-4709185e33c2",
   "metadata": {},
   "outputs": [
    {
     "name": "stdout",
     "output_type": "stream",
     "text": [
      "[1, 2, 3]\n",
      "[1, 2, 3]\n",
      "[1, 2, 3]\n",
      "[1, 2, 3]\n"
     ]
    }
   ],
   "source": [
    "import sys\n",
    "a = b = c = d = [1, 2, 3]\n",
    "print (a)\n",
    "print (b)\n",
    "print (c)\n",
    "print (d)"
   ]
  },
  {
   "cell_type": "code",
   "execution_count": 253,
   "id": "e7dcae91-cf62-47a6-ac71-772db0067355",
   "metadata": {},
   "outputs": [
    {
     "name": "stdout",
     "output_type": "stream",
     "text": [
      "4\n"
     ]
    }
   ],
   "source": [
    "kolssilok = sys.getrefcount(a) - 1\n",
    "print(kolssilok)"
   ]
  },
  {
   "cell_type": "code",
   "execution_count": null,
   "id": "cff843a7-a55f-4bbe-87e4-9482ade0f952",
   "metadata": {},
   "outputs": [],
   "source": [
    "sys.getrefcount(a) определяет кол-во ссылок. Но список сам по себе является ссылкой, соответственно отнимем 1."
   ]
  },
  {
   "cell_type": "markdown",
   "id": "b40590fd-4bcd-4fc5-a98e-5798020ea105",
   "metadata": {},
   "source": [
    "$\\textcolor{green}{\\text{3)Приведите три различных способа копирования списка.}}$"
   ]
  },
  {
   "cell_type": "markdown",
   "id": "c3da2099-4d0e-4aac-ae7e-9f3c81257e2b",
   "metadata": {},
   "source": [
    "1) Метод Copy:"
   ]
  },
  {
   "cell_type": "code",
   "execution_count": 256,
   "id": "f5f01e7c-de9b-42c8-b2c2-5714a38014f4",
   "metadata": {},
   "outputs": [
    {
     "name": "stdout",
     "output_type": "stream",
     "text": [
      "[1, 2, 3]\n"
     ]
    }
   ],
   "source": [
    "a1 = [1, 2, 3]\n",
    "a2 = a1.copy()\n",
    "print(a2)  "
   ]
  },
  {
   "cell_type": "markdown",
   "id": "624ca65c-fa8b-448b-960f-d6c9a298ebe1",
   "metadata": {},
   "source": [
    "2) Срез [:]"
   ]
  },
  {
   "cell_type": "code",
   "execution_count": 260,
   "id": "eaad37ee-312b-4301-83f0-e088f79b9fe0",
   "metadata": {},
   "outputs": [
    {
     "name": "stdout",
     "output_type": "stream",
     "text": [
      "[1, 2, 3]\n"
     ]
    }
   ],
   "source": [
    "a3 = [1, 2, 3]\n",
    "a4 = a3[:]\n",
    "print(a4)"
   ]
  },
  {
   "cell_type": "markdown",
   "id": "3081f402-89c2-46bc-bafb-c8034a267ce5",
   "metadata": {},
   "source": [
    "3) list():"
   ]
  },
  {
   "cell_type": "code",
   "execution_count": 265,
   "id": "e2a22f9e-3bbf-4f0f-be16-cdb1fae7c7f2",
   "metadata": {},
   "outputs": [
    {
     "name": "stdout",
     "output_type": "stream",
     "text": [
      "[1, 2, 3]\n"
     ]
    }
   ],
   "source": [
    "a5 = [1, 2, 3]\n",
    "a6 = list(a5)\n",
    "print(a6) "
   ]
  },
  {
   "cell_type": "markdown",
   "id": "b7766551-d8ac-4f95-aeda-66e2b9d37cdd",
   "metadata": {},
   "source": [
    "**2.10 Выражение спискового включения**"
   ]
  },
  {
   "cell_type": "markdown",
   "id": "b43b8c8c-a6e3-4221-8214-fa5a0ec1382a",
   "metadata": {},
   "source": [
    "$\\textcolor{pink}{\\text{1)Приведите пример создания множества с использованием синтаксиса\n",
    "включения с условием.}}$"
   ]
  },
  {
   "cell_type": "markdown",
   "id": "18409c72-de19-4014-95b1-5949c1ff0276",
   "metadata": {},
   "source": [
    "Мн-во четных чисел в указанном промежутке:"
   ]
  },
  {
   "cell_type": "code",
   "execution_count": 271,
   "id": "249c3439-c2dc-4e6d-83a8-af4ec372b1f2",
   "metadata": {},
   "outputs": [
    {
     "name": "stdout",
     "output_type": "stream",
     "text": [
      "{0, 2, 4, 6, 8, 10, 12, 14, 16, 18, 20}\n"
     ]
    }
   ],
   "source": [
    "mnoghestvo1 = {x for x in range(21) if x % 2 == 0}\n",
    "print(mnoghestvo1)"
   ]
  },
  {
   "cell_type": "markdown",
   "id": "23cff87d-3b9b-45dd-8801-f9d2599a1c59",
   "metadata": {},
   "source": [
    "Мн-во слов длиннее заданной длинны:"
   ]
  },
  {
   "cell_type": "code",
   "execution_count": 273,
   "id": "7fc80e16-a757-4632-95bc-7348caac4e15",
   "metadata": {},
   "outputs": [
    {
     "name": "stdout",
     "output_type": "stream",
     "text": [
      "{'khklrfi', 'dghkt'}\n"
     ]
    }
   ],
   "source": [
    "mnoghestvo2 = [\"hnjk\", \"a\", \"bai\", \"khklrfi\", \"dghkt\"]\n",
    "mnoghestvo3 = {word for word in mnoghestvo2 if len(word) > 4}\n",
    "print(mnoghestvo3) "
   ]
  },
  {
   "cell_type": "markdown",
   "id": "ffae0a2d-073c-43b2-ae1e-d0a5f45d7d69",
   "metadata": {},
   "source": [
    "$\\textcolor{pink}{\\text{2)Приведите пример создания числовой матрицы размера 7 × 8 на основе\n",
    "списка с использованием включений, вложенных друг в друга.\n",
    "Попробуйте создать аналогичную матрицу, используя инструменты\n",
    "расширения numpy..}}$"
   ]
  },
  {
   "cell_type": "code",
   "execution_count": 296,
   "id": "a830d002-be6d-4394-8628-1bace845b214",
   "metadata": {},
   "outputs": [
    {
     "name": "stdout",
     "output_type": "stream",
     "text": [
      "[0, 1, 2, 3, 4, 5, 6, 7]\n",
      "[8, 9, 10, 11, 12, 13, 14, 15]\n",
      "[16, 17, 18, 19, 20, 21, 22, 23]\n",
      "[24, 25, 26, 27, 28, 29, 30, 31]\n",
      "[32, 33, 34, 35, 36, 37, 38, 39]\n",
      "[40, 41, 42, 43, 44, 45, 46, 47]\n",
      "[48, 49, 50, 51, 52, 53, 54, 55]\n"
     ]
    }
   ],
   "source": [
    "matrica1 = [[i*8 + j for j in range(8)] for i in range(7)]\n",
    "for row in matrica1:\n",
    "    print(row)"
   ]
  },
  {
   "cell_type": "markdown",
   "id": "d3f31903-4208-46e7-a761-3d82b2978de9",
   "metadata": {},
   "source": [
    "С помощью numpy:"
   ]
  },
  {
   "cell_type": "code",
   "execution_count": 319,
   "id": "37f74acf-b215-46db-b418-166a5e2500eb",
   "metadata": {},
   "outputs": [
    {
     "name": "stdout",
     "output_type": "stream",
     "text": [
      "[[ 0  1  2  3  4  5  6  7]\n",
      " [ 8  9 10 11 12 13 14 15]\n",
      " [16 17 18 19 20 21 22 23]\n",
      " [24 25 26 27 28 29 30 31]\n",
      " [32 33 34 35 36 37 38 39]\n",
      " [40 41 42 43 44 45 46 47]\n",
      " [48 49 50 51 52 53 54 55]]\n"
     ]
    }
   ],
   "source": [
    "import numpy as np\n",
    "np_matrica2 = np.arange(56).reshape(7, 8)\n",
    "print(np_matrica2)"
   ]
  },
  {
   "cell_type": "markdown",
   "id": "8b156397-8474-4c78-8d4e-b28df80bde2c",
   "metadata": {},
   "source": [
    "$\\textcolor{pink}{\\text{3)Приведите пример создания словаря с использованием синтаксиса\n",
    "включения с двумя уровнями вложенности.}}$"
   ]
  },
  {
   "cell_type": "code",
   "execution_count": 314,
   "id": "fe79c0eb-0914-4a0e-839d-96933b1f2891",
   "metadata": {},
   "outputs": [
    {
     "name": "stdout",
     "output_type": "stream",
     "text": [
      "{0: {0: 0, 1: 1, 2: 4, 3: 9, 4: 16}, 1: {0: 0, 1: 1, 2: 4, 3: 9, 4: 16}, 2: {0: 0, 1: 1, 2: 4, 3: 9, 4: 16}, 3: {0: 0, 1: 1, 2: 4, 3: 9, 4: 16}, 4: {0: 0, 1: 1, 2: 4, 3: 9, 4: 16}, 5: {0: 0, 1: 1, 2: 4, 3: 9, 4: 16}}\n"
     ]
    }
   ],
   "source": [
    "slov = {i: {j: j**2 for j in range(5)} for i in range(6)}\n",
    "print(slov)"
   ]
  },
  {
   "cell_type": "markdown",
   "id": "3a4a7e9f-11eb-49c6-bff4-ac37a09405b0",
   "metadata": {},
   "source": [
    "**2.11 Форматированный вывод строк**"
   ]
  },
  {
   "cell_type": "markdown",
   "id": "e73f01ea-fa2c-44ab-a526-56c8a963ecb8",
   "metadata": {},
   "source": [
    "$\\textcolor{blue}{\\text{1)Приведите пример форматированного вывода с использованием\n",
    "синтаксиса f’…{variable=:…}’, где variable – заданная\n",
    "переменная. Получите аналогичный результат с использованием\n",
    "бинарной операции % и строкового метода format.}}$"
   ]
  },
  {
   "cell_type": "markdown",
   "id": "5671c207-0da4-4a48-a0dd-5f42ee340188",
   "metadata": {},
   "source": [
    "1) Синтаксис f-строки:"
   ]
  },
  {
   "cell_type": "code",
   "execution_count": 324,
   "id": "378547c9-6965-4c19-bd11-dc6730b113f5",
   "metadata": {},
   "outputs": [
    {
     "name": "stdout",
     "output_type": "stream",
     "text": [
      "pi = 3.14\n"
     ]
    }
   ],
   "source": [
    "pi = 3.14159\n",
    "print(f\"{pi = :.2f}\")  "
   ]
  },
  {
   "cell_type": "markdown",
   "id": "877bcfbc-da37-43e9-b8a5-4005d1c9a5c2",
   "metadata": {},
   "source": [
    "2) Оператор %:"
   ]
  },
  {
   "cell_type": "code",
   "execution_count": 327,
   "id": "55be0188-c640-4748-baac-5b4b37c4c862",
   "metadata": {},
   "outputs": [
    {
     "name": "stdout",
     "output_type": "stream",
     "text": [
      "pi = 3.14\n"
     ]
    }
   ],
   "source": [
    "print(\"pi = %.2f\" % pi) "
   ]
  },
  {
   "cell_type": "markdown",
   "id": "094a0813-1df0-4d2b-8c52-148aa0460ec0",
   "metadata": {},
   "source": [
    "3) Метод .format():"
   ]
  },
  {
   "cell_type": "code",
   "execution_count": 332,
   "id": "126dd9ca-4761-4dd8-b1b1-80addb3731f0",
   "metadata": {},
   "outputs": [
    {
     "name": "stdout",
     "output_type": "stream",
     "text": [
      "pi = 3.14\n"
     ]
    }
   ],
   "source": [
    "print(\"pi = {:.2f}\".format(pi)) "
   ]
  },
  {
   "cell_type": "markdown",
   "id": "d85fed05-eb1d-480e-844d-efa14c06dcce",
   "metadata": {},
   "source": [
    "$\\textcolor{pink}{\\text{2)Приведите пример форматированного вывода с использованием\n",
    "синтаксиса f’…{expression=:…}’, где expression – заданное\n",
    "выражение. Получите аналогичный результат с использованием\n",
    "бинарной операции % и строкового метода format.\n",
    "}}$"
   ]
  },
  {
   "cell_type": "markdown",
   "id": "8bee50d9-0866-4f9d-8e00-c2f7e04315f0",
   "metadata": {},
   "source": [
    "1) f-строкa: "
   ]
  },
  {
   "cell_type": "code",
   "execution_count": 347,
   "id": "f5ef2806-580d-4815-b354-1be8fc74c5da",
   "metadata": {},
   "outputs": [
    {
     "name": "stdout",
     "output_type": "stream",
     "text": [
      "(5 + 4) * 2 + 1 =19.00\n"
     ]
    }
   ],
   "source": [
    "print(f\"{(5 + 4) * 2 + 1 =:.2f}\") "
   ]
  },
  {
   "cell_type": "markdown",
   "id": "a92fc982-e672-4cb7-ae5f-58ece8cbe29f",
   "metadata": {},
   "source": [
    "2) Оператор %:"
   ]
  },
  {
   "cell_type": "code",
   "execution_count": 364,
   "id": "9cff068e-4edd-4c86-9f3e-cdbfc876e4c8",
   "metadata": {},
   "outputs": [
    {
     "name": "stdout",
     "output_type": "stream",
     "text": [
      "res = 19.00\n"
     ]
    }
   ],
   "source": [
    "res = (5 + 4) * 2 + 1\n",
    "print(\"res = %.2f\" % res)"
   ]
  },
  {
   "cell_type": "markdown",
   "id": "7ae0ea08-073f-411b-a443-eb254f67fb10",
   "metadata": {},
   "source": [
    "3) Метод .format():"
   ]
  },
  {
   "cell_type": "code",
   "execution_count": 367,
   "id": "70ff73f1-2712-4328-abf6-ad1a57b36692",
   "metadata": {},
   "outputs": [
    {
     "name": "stdout",
     "output_type": "stream",
     "text": [
      "res2 = 19.00\n"
     ]
    }
   ],
   "source": [
    "res2 = (5 + 4) * 2 + 1\n",
    "print(\"res2 = {:.2f}\".format(res2))  "
   ]
  },
  {
   "cell_type": "markdown",
   "id": "8b06aa10-d1c7-4524-a3c1-0e52169ee435",
   "metadata": {},
   "source": [
    "**2.12 Файловый объект**"
   ]
  },
  {
   "cell_type": "code",
   "execution_count": null,
   "id": "a04db221-4e90-44d6-a93a-fceabfca2576",
   "metadata": {},
   "outputs": [],
   "source": [
    "file = open(\"example.txt\", \"w\") #открытие файла в режиме записи\n",
    "file.write(\"Первая строка\\n\") #write для записи одной строки\n",
    "lines = [\"Вторая строка\\n\", \"Третья строка\\n\", \"Четвертая строка\\n\"] #writelines для записи списка строк\n",
    "file.writelines(lines)\n",
    "file.close()  #закрываем файл\n",
    "file = open(\"example.txt\", \"r\")  #открытие файла в режиме чтения\n",
    "content = file.read()#read для чтения всего содержимого\n",
    "print(\"=== read() ===\")\n",
    "print(content)\n",
    "file.close()\n",
    "file = open(\"example.txt\", \"r\")\n",
    "first_line = file.readline()#readline для чтения первой строки\n",
    "print(\"\\n=== readline() ===\")\n",
    "print(first_line, end='')\n",
    "remaining_lines = file.readlines() #readlines для чтения всех оставшихся строк\n",
    "print(\"\\n=== readlines() ===\")\n",
    "print(remaining_lines)\n",
    "file.close()"
   ]
  },
  {
   "cell_type": "markdown",
   "id": "a4ec254e-1837-4a3c-8f0c-54f270d170c8",
   "metadata": {},
   "source": [
    "## 2.3"
   ]
  },
  {
   "cell_type": "markdown",
   "id": "90059c5c-f649-4b1e-9a09-8038be9be99f",
   "metadata": {},
   "source": [
    "1) print('\\c \\xc6')"
   ]
  },
  {
   "cell_type": "markdown",
   "id": "d39395aa-c714-4001-9f8d-08c270a821de",
   "metadata": {},
   "source": [
    "Ошибка возникает из-за \\c, которая не является правильной escape-последовательностью. Python не знает, что с ней делать, поэтому выдает предупреждение."
   ]
  },
  {
   "cell_type": "markdown",
   "id": "6868ab60-7f41-4c39-8e44-86808d9a9a77",
   "metadata": {},
   "source": [
    "2) str1[10]"
   ]
  },
  {
   "cell_type": "markdown",
   "id": "856e4570-f85c-40e6-a1af-189935f8fc87",
   "metadata": {},
   "source": [
    "Ошибка IndexError возникает, потому что индекс 10 выходит за пределы длины строки str1. В Python индексы начинаются с 0, и если строка короче 11 символов, этот индекс недоступен."
   ]
  },
  {
   "cell_type": "markdown",
   "id": "1447f2fd-29a9-4f43-90b7-6396af24721e",
   "metadata": {},
   "source": [
    "3) [1] + '1'"
   ]
  },
  {
   "cell_type": "markdown",
   "id": "58a57220-d5ad-4579-94f8-7eca9a2b046f",
   "metadata": {},
   "source": [
    "Ошибка TypeError возникает, потому что в Python нельзя объединять список и строку напрямую."
   ]
  },
  {
   "cell_type": "markdown",
   "id": "8c4dd619-b7ee-47be-b34f-397e4adb7334",
   "metadata": {},
   "source": [
    "4) dict1['two']"
   ]
  },
  {
   "cell_type": "markdown",
   "id": "0eec8ada-0285-40f1-988a-a6c2729c2181",
   "metadata": {},
   "source": [
    "Ошибка KeyError возникает, потому что ключ 'two' отсутствует в словаре dict1."
   ]
  },
  {
   "cell_type": "markdown",
   "id": "2c9803f5-5eca-4c0d-9508-0e2c35744942",
   "metadata": {},
   "source": [
    "5) t = [1,2], {1:2}, {1,2}; t[0] = 0"
   ]
  },
  {
   "cell_type": "markdown",
   "id": "fb696552-66d2-4c01-8cc6-ff050f8c6ff0",
   "metadata": {},
   "source": [
    "Ошибка TypeError возникает, потому что t является кортежем, а кортежи в Python неизменяемы."
   ]
  },
  {
   "cell_type": "markdown",
   "id": "fb3d2d4b-8a50-4025-99c4-79319961b5dc",
   "metadata": {},
   "source": [
    "6) {1, 'str', (1,)}.add([1])"
   ]
  },
  {
   "cell_type": "markdown",
   "id": "629c0a15-7bb0-4095-a36e-ba3416375ba2",
   "metadata": {},
   "source": [
    "Ошибка TypeError возникает, потому что нельзя добавлять список [1] в множество."
   ]
  },
  {
   "cell_type": "markdown",
   "id": "3eb43739-8dda-452f-a5ac-e2027096ffda",
   "metadata": {},
   "source": [
    "7) print(dict1.get('one'), dict1.get('three')); dict1['three']"
   ]
  },
  {
   "cell_type": "markdown",
   "id": "190ee29c-0479-4a83-b258-851523cd8080",
   "metadata": {},
   "source": [
    "Ошибка KeyError возникает, потому что вы пытаетесь получить значение по ключу 'three', который отсутствует в словаре dict1. Метод .get() возвращает None, если ключ не найден, но доступ к несуществующему ключу с помощью dict1['three'] вызывает ошибку."
   ]
  },
  {
   "cell_type": "markdown",
   "id": "1113f996-6774-42f0-a0ac-9aaf9c02a859",
   "metadata": {},
   "source": [
    "8) print(s, s.find('-')); s.index('-')"
   ]
  },
  {
   "cell_type": "markdown",
   "id": "105588ee-b189-4917-bc4b-57117261b1c2",
   "metadata": {},
   "source": [
    "Ошибка ValueError возникает, потому что метод index() не находит подстроку '-' в строке s."
   ]
  },
  {
   "cell_type": "markdown",
   "id": "aecca2d3-cc07-4d5b-b0c8-ac0448031e4c",
   "metadata": {},
   "source": [
    "9) a = 1  # создание переменной; a, d"
   ]
  },
  {
   "cell_type": "markdown",
   "id": "a8c45d2f-8be0-4a36-a55d-d1693fdb1b55",
   "metadata": {},
   "source": [
    "Ошибка NameError возникает, потому что переменная d не определена."
   ]
  },
  {
   "cell_type": "markdown",
   "id": "9550d916-98c9-4af3-b212-5dbe2da77d01",
   "metadata": {},
   "source": [
    "10) print(abs(-1)); abs = 5; print(abs(-1))"
   ]
  },
  {
   "cell_type": "markdown",
   "id": "67246ee7-96dc-4a31-a3bf-d4b174674814",
   "metadata": {},
   "source": [
    "Ошибка TypeError возникает, потому что после присвоения abs = 5, abs больше не ссылается на функцию abs(), а становится целым числом."
   ]
  },
  {
   "cell_type": "markdown",
   "id": "389024aa-5a6e-44c7-86d9-af753bc501f2",
   "metadata": {},
   "source": [
    "## Задание 3"
   ]
  },
  {
   "cell_type": "markdown",
   "id": "87382eac-b254-486c-92be-f627f5185ae5",
   "metadata": {},
   "source": [
    "4.4 Последовательность — это упорядоченная коллекция элементов, где каждый элемент имеет определенную позицию (индекс). \n",
    "В эту категорию входят списки, кортежи, строки.\n",
    "\n",
    "Примеры соотственно:"
   ]
  },
  {
   "cell_type": "code",
   "execution_count": 408,
   "id": "1187b4be-1388-4c2a-baa3-d0b748c70a88",
   "metadata": {},
   "outputs": [],
   "source": [
    "llist = [1, 2, \"afjf\", True]"
   ]
  },
  {
   "cell_type": "code",
   "execution_count": 410,
   "id": "b14366a1-e52b-4c63-bcf8-ce5bf0a5f627",
   "metadata": {},
   "outputs": [],
   "source": [
    "ttuple = (10, \"kkv\", False)"
   ]
  },
  {
   "cell_type": "code",
   "execution_count": 412,
   "id": "1697ffab-54af-4b22-b15d-ccf3136ad281",
   "metadata": {},
   "outputs": [],
   "source": [
    "sstr = \"Hello, World!\""
   ]
  },
  {
   "cell_type": "markdown",
   "id": "843a75c2-fe5e-4d1f-84bf-e0dbba435352",
   "metadata": {},
   "source": [
    "5.4 Модуль math.  x ** 2; x**0.5; pow(x, 2); pow(x, 0.5); math.sqrt(n) "
   ]
  },
  {
   "cell_type": "code",
   "execution_count": 418,
   "id": "e2663170-bb35-4d98-9051-5e7606bc5aa2",
   "metadata": {},
   "outputs": [
    {
     "name": "stdout",
     "output_type": "stream",
     "text": [
      "625\n",
      "5.0\n"
     ]
    }
   ],
   "source": [
    "x=25\n",
    "b=pow(x, 2)\n",
    "c=x**0.5\n",
    "print (b)\n",
    "print (c)"
   ]
  },
  {
   "cell_type": "markdown",
   "id": "5f1dd177-426c-4fee-833b-2899854d9b2f",
   "metadata": {},
   "source": [
    "6.1 Нет.\n",
    "A = 'spam'\n",
    "B = A\n",
    "B = 'shrubbery'\n",
    "\n",
    "Изначально даны две переменные. А ссылается на 'spam', В ссылается на А, соответственно тоже на 'spam'. Далее у переменной А больше нет присваиваний, следовательно на выходе она также будет выводить 'spam'. А вот переменная В присваивает себе ново значение, строку 'shrubbery', соответственно утрачивает старое значение. Все переменные ссылаются на что-то, по факту явл ссылками для перехода к значению. "
   ]
  },
  {
   "cell_type": "markdown",
   "id": "c823f7e4-add5-4442-ae77-c256307e2ab0",
   "metadata": {},
   "source": [
    "7.4 Строку нельзя изменять после создания. Но можно создать новую, которую получим путем разрезания старой. "
   ]
  },
  {
   "cell_type": "code",
   "execution_count": 430,
   "id": "d2668ef2-c8f2-4e8d-ae0b-647c4032afa6",
   "metadata": {},
   "outputs": [
    {
     "name": "stdout",
     "output_type": "stream",
     "text": [
      "slam\n"
     ]
    }
   ],
   "source": [
    "S = 'spam'\n",
    "S = S[:1] + 'l' + S[2:] \n",
    "print(S)"
   ]
  },
  {
   "cell_type": "markdown",
   "id": "eef6e908-c427-4810-9bd1-72dcb3cbce22",
   "metadata": {},
   "source": [
    "8.1"
   ]
  },
  {
   "cell_type": "code",
   "execution_count": 433,
   "id": "4fbf6730-47d1-4c00-9a78-b05c7d8e4b3a",
   "metadata": {},
   "outputs": [
    {
     "name": "stdout",
     "output_type": "stream",
     "text": [
      "[0, 0, 0, 0, 0]\n"
     ]
    }
   ],
   "source": [
    "sspisok = [0] * 5\n",
    "print(sspisok)"
   ]
  },
  {
   "cell_type": "code",
   "execution_count": 435,
   "id": "3bb1a674-911c-4cbe-a411-749d232e3c68",
   "metadata": {},
   "outputs": [
    {
     "name": "stdout",
     "output_type": "stream",
     "text": [
      "[0, 0, 0, 0, 0]\n"
     ]
    }
   ],
   "source": [
    "ssspisok = [0 for _ in range(5)]\n",
    "print(ssspisok)"
   ]
  },
  {
   "cell_type": "markdown",
   "id": "454286ee-e535-47ea-a2ae-6997a437ed2f",
   "metadata": {},
   "source": [
    "9.2"
   ]
  },
  {
   "cell_type": "code",
   "execution_count": 442,
   "id": "869ac8c3-13e8-4440-af2a-2474f6169eab",
   "metadata": {},
   "outputs": [
    {
     "data": {
      "text/plain": [
       "(1, 5, 6)"
      ]
     },
     "execution_count": 442,
     "metadata": {},
     "output_type": "execute_result"
    }
   ],
   "source": [
    "kortegh1 = (4, 5, 6)\n",
    "kortegh2 = (1,) + kortegh1[1:]\n",
    "kortegh2"
   ]
  }
 ],
 "metadata": {
  "kernelspec": {
   "display_name": "Python [conda env:base] *",
   "language": "python",
   "name": "conda-base-py"
  },
  "language_info": {
   "codemirror_mode": {
    "name": "ipython",
    "version": 3
   },
   "file_extension": ".py",
   "mimetype": "text/x-python",
   "name": "python",
   "nbconvert_exporter": "python",
   "pygments_lexer": "ipython3",
   "version": "3.12.7"
  }
 },
 "nbformat": 4,
 "nbformat_minor": 5
}
